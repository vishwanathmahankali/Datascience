{
  "cells": [
    {
      "cell_type": "code",
      "execution_count": 1,
      "id": "e21afae2-12f4-426b-b267-246c86a6c5ae",
      "metadata": {
        "id": "e21afae2-12f4-426b-b267-246c86a6c5ae"
      },
      "outputs": [],
      "source": [
        "import numpy as np"
      ]
    },
    {
      "cell_type": "code",
      "execution_count": 2,
      "id": "5b775b5b-bd6c-4192-ab23-4bc98293ddd5",
      "metadata": {
        "colab": {
          "base_uri": "https://localhost:8080/"
        },
        "id": "5b775b5b-bd6c-4192-ab23-4bc98293ddd5",
        "outputId": "77c7f25d-7161-4aa6-ace0-ceac08b20c31"
      },
      "outputs": [
        {
          "output_type": "stream",
          "name": "stdout",
          "text": [
            "[0 1 2 3 4 5 6 7 8 9]\n",
            "[0, 1, 2, 3, 4, 5, 6, 7, 8, 9]\n"
          ]
        }
      ],
      "source": [
        "my_arr = np.arange(10)\n",
        "print(my_arr)\n",
        "my_list = list(range(10))\n",
        "print(my_list)"
      ]
    },
    {
      "cell_type": "code",
      "execution_count": 4,
      "id": "b6b1decd-1e48-4d5e-9ec1-355293459f42",
      "metadata": {
        "colab": {
          "base_uri": "https://localhost:8080/"
        },
        "id": "b6b1decd-1e48-4d5e-9ec1-355293459f42",
        "outputId": "23deb41a-ca0f-4614-b4d0-a6341b1dc919"
      },
      "outputs": [
        {
          "output_type": "stream",
          "name": "stdout",
          "text": [
            "[0, 2, 4, 6, 8, 10, 12, 14, 16, 18]\n"
          ]
        }
      ],
      "source": [
        "for _ in range(10): my_list2 = [x * 2 for x in my_list]\n",
        "print(my_list2)"
      ]
    },
    {
      "cell_type": "code",
      "execution_count": 5,
      "id": "61473c16-b42a-4ab6-9789-9b378801affd",
      "metadata": {
        "colab": {
          "base_uri": "https://localhost:8080/"
        },
        "id": "61473c16-b42a-4ab6-9789-9b378801affd",
        "outputId": "3172c2f6-0f75-47f5-e39b-8476623508f6"
      },
      "outputs": [
        {
          "output_type": "execute_result",
          "data": {
            "text/plain": [
              "array([[-0.64074807,  0.38926094, -0.31208533],\n",
              "       [ 0.3260434 , -0.02275069,  1.81906917]])"
            ]
          },
          "metadata": {},
          "execution_count": 5
        }
      ],
      "source": [
        "data = np.random.randn(2,3)\n",
        "data"
      ]
    },
    {
      "cell_type": "code",
      "execution_count": 6,
      "id": "629d2b32-227f-4802-82d8-b415fbc28191",
      "metadata": {
        "colab": {
          "base_uri": "https://localhost:8080/"
        },
        "id": "629d2b32-227f-4802-82d8-b415fbc28191",
        "outputId": "72a0ab5e-fcd0-456a-9584-f7bbdd17b483"
      },
      "outputs": [
        {
          "output_type": "execute_result",
          "data": {
            "text/plain": [
              "array([[-6.40748073,  3.89260939, -3.12085328],\n",
              "       [ 3.26043402, -0.2275069 , 18.1906917 ]])"
            ]
          },
          "metadata": {},
          "execution_count": 6
        }
      ],
      "source": [
        "data*10"
      ]
    },
    {
      "cell_type": "code",
      "execution_count": 7,
      "id": "bbb1ee59-c060-4eab-8882-9a13ab3c61c6",
      "metadata": {
        "colab": {
          "base_uri": "https://localhost:8080/"
        },
        "id": "bbb1ee59-c060-4eab-8882-9a13ab3c61c6",
        "outputId": "13cda8ac-8939-428a-ee99-38257888b20d"
      },
      "outputs": [
        {
          "output_type": "execute_result",
          "data": {
            "text/plain": [
              "array([[-1.28149615,  0.77852188, -0.62417066],\n",
              "       [ 0.6520868 , -0.04550138,  3.63813834]])"
            ]
          },
          "metadata": {},
          "execution_count": 7
        }
      ],
      "source": [
        "data+data"
      ]
    },
    {
      "cell_type": "code",
      "execution_count": 8,
      "id": "ecbb45f8-71e8-40be-bb01-a05792601368",
      "metadata": {
        "colab": {
          "base_uri": "https://localhost:8080/"
        },
        "id": "ecbb45f8-71e8-40be-bb01-a05792601368",
        "outputId": "fb100383-a9e9-4724-f43d-7ab13d4eedea"
      },
      "outputs": [
        {
          "output_type": "execute_result",
          "data": {
            "text/plain": [
              "(2, 3)"
            ]
          },
          "metadata": {},
          "execution_count": 8
        }
      ],
      "source": [
        "data.shape"
      ]
    },
    {
      "cell_type": "code",
      "execution_count": 9,
      "id": "50346bab-e631-45ac-98dc-9c9a3b1d2287",
      "metadata": {
        "colab": {
          "base_uri": "https://localhost:8080/"
        },
        "id": "50346bab-e631-45ac-98dc-9c9a3b1d2287",
        "outputId": "74564408-8b57-425e-d6ab-2f1a9e585652"
      },
      "outputs": [
        {
          "output_type": "execute_result",
          "data": {
            "text/plain": [
              "dtype('float64')"
            ]
          },
          "metadata": {},
          "execution_count": 9
        }
      ],
      "source": [
        "data.dtype"
      ]
    },
    {
      "cell_type": "code",
      "execution_count": 10,
      "id": "a34905d6-3b5e-45b8-9b3a-f00100f2874d",
      "metadata": {
        "colab": {
          "base_uri": "https://localhost:8080/"
        },
        "id": "a34905d6-3b5e-45b8-9b3a-f00100f2874d",
        "outputId": "b5bd8d91-d930-4d16-d0a7-57657c114de4"
      },
      "outputs": [
        {
          "output_type": "execute_result",
          "data": {
            "text/plain": [
              "array([6. , 7.5, 8. , 0. , 1. ])"
            ]
          },
          "metadata": {},
          "execution_count": 10
        }
      ],
      "source": [
        "data1 = [6, 7.5, 8, 0, 1]\n",
        "arr1 = np.array(data1)\n",
        "arr1"
      ]
    },
    {
      "cell_type": "code",
      "execution_count": 11,
      "id": "8a41af4e-b8c6-455f-8981-01b99a66fa0f",
      "metadata": {
        "colab": {
          "base_uri": "https://localhost:8080/"
        },
        "id": "8a41af4e-b8c6-455f-8981-01b99a66fa0f",
        "outputId": "6a9c8ae2-7e67-4784-82e7-da2072869135"
      },
      "outputs": [
        {
          "output_type": "execute_result",
          "data": {
            "text/plain": [
              "array([[1, 2, 3, 4],\n",
              "       [5, 6, 7, 8]])"
            ]
          },
          "metadata": {},
          "execution_count": 11
        }
      ],
      "source": [
        "data2 = [[1, 2, 3, 4], [5, 6, 7, 8]]\n",
        "arr2 = np.array(data2)\n",
        "arr2"
      ]
    },
    {
      "cell_type": "code",
      "execution_count": 12,
      "id": "d7c17bd7-43a2-4361-b19b-856a4fe914dc",
      "metadata": {
        "colab": {
          "base_uri": "https://localhost:8080/"
        },
        "id": "d7c17bd7-43a2-4361-b19b-856a4fe914dc",
        "outputId": "a4a59bc9-fe7e-40cb-aecc-d128870df0f2"
      },
      "outputs": [
        {
          "output_type": "execute_result",
          "data": {
            "text/plain": [
              "2"
            ]
          },
          "metadata": {},
          "execution_count": 12
        }
      ],
      "source": [
        "arr2.ndim"
      ]
    },
    {
      "cell_type": "code",
      "execution_count": 13,
      "id": "6a89c299-5e0a-4304-9486-e3778ac2fc11",
      "metadata": {
        "colab": {
          "base_uri": "https://localhost:8080/"
        },
        "id": "6a89c299-5e0a-4304-9486-e3778ac2fc11",
        "outputId": "c6590b05-8bb4-417e-90a1-e8933dc209fa"
      },
      "outputs": [
        {
          "output_type": "execute_result",
          "data": {
            "text/plain": [
              "(2, 4)"
            ]
          },
          "metadata": {},
          "execution_count": 13
        }
      ],
      "source": [
        "arr2.shape"
      ]
    },
    {
      "cell_type": "code",
      "execution_count": 14,
      "id": "88025e4c-9971-40cb-b104-e8872e9d13de",
      "metadata": {
        "colab": {
          "base_uri": "https://localhost:8080/"
        },
        "id": "88025e4c-9971-40cb-b104-e8872e9d13de",
        "outputId": "f2b4883f-a80c-4af0-f1ac-e40733f59a58"
      },
      "outputs": [
        {
          "output_type": "stream",
          "name": "stdout",
          "text": [
            "float64\n",
            "int64\n"
          ]
        }
      ],
      "source": [
        "print(arr1.dtype)\n",
        "print(arr2.dtype)"
      ]
    },
    {
      "cell_type": "code",
      "execution_count": 15,
      "id": "1d53d1e9-866b-4216-8c76-49d1dcc94440",
      "metadata": {
        "colab": {
          "base_uri": "https://localhost:8080/"
        },
        "id": "1d53d1e9-866b-4216-8c76-49d1dcc94440",
        "outputId": "ff56e7f9-2ddc-421e-f08d-a4d75af4853d"
      },
      "outputs": [
        {
          "output_type": "execute_result",
          "data": {
            "text/plain": [
              "array([0., 0., 0., 0., 0., 0., 0., 0., 0., 0.])"
            ]
          },
          "metadata": {},
          "execution_count": 15
        }
      ],
      "source": [
        "np.zeros(10)"
      ]
    },
    {
      "cell_type": "code",
      "execution_count": 16,
      "id": "ed8b9da3-6bdc-40db-b119-fcdff9041107",
      "metadata": {
        "colab": {
          "base_uri": "https://localhost:8080/"
        },
        "id": "ed8b9da3-6bdc-40db-b119-fcdff9041107",
        "outputId": "40da7d13-6bce-44e7-b81c-ef12afa97ed0"
      },
      "outputs": [
        {
          "output_type": "execute_result",
          "data": {
            "text/plain": [
              "array([[0., 0., 0., 0., 0., 0.],\n",
              "       [0., 0., 0., 0., 0., 0.],\n",
              "       [0., 0., 0., 0., 0., 0.]])"
            ]
          },
          "metadata": {},
          "execution_count": 16
        }
      ],
      "source": [
        "np.zeros((3,6))"
      ]
    },
    {
      "cell_type": "code",
      "execution_count": 17,
      "id": "a74954e0-27c1-4b19-88b3-f2e19ab09e5f",
      "metadata": {
        "colab": {
          "base_uri": "https://localhost:8080/"
        },
        "id": "a74954e0-27c1-4b19-88b3-f2e19ab09e5f",
        "outputId": "3fe28fb9-e1b1-4cf9-d315-086cc1ef451a"
      },
      "outputs": [
        {
          "output_type": "execute_result",
          "data": {
            "text/plain": [
              "array([[[4.77618025e-310, 0.00000000e+000],\n",
              "        [0.00000000e+000, 0.00000000e+000],\n",
              "        [0.00000000e+000, 0.00000000e+000]],\n",
              "\n",
              "       [[0.00000000e+000, 0.00000000e+000],\n",
              "        [0.00000000e+000, 0.00000000e+000],\n",
              "        [0.00000000e+000, 0.00000000e+000]]])"
            ]
          },
          "metadata": {},
          "execution_count": 17
        }
      ],
      "source": [
        "np.empty((2,3,2))\n",
        "\n",
        "# It’s not safe to assume that\n",
        "# np.empty will return an array of allzeros.\n",
        "# In some cases,\n",
        "# it may return uninitialized “garbage” values.\n"
      ]
    },
    {
      "cell_type": "code",
      "execution_count": 18,
      "id": "20bb04a2-34be-4d2d-800c-0bb022d09e32",
      "metadata": {
        "colab": {
          "base_uri": "https://localhost:8080/"
        },
        "id": "20bb04a2-34be-4d2d-800c-0bb022d09e32",
        "outputId": "250b1053-4c57-423e-b40a-8aaba87ae613"
      },
      "outputs": [
        {
          "output_type": "stream",
          "name": "stdout",
          "text": [
            "float64\n",
            "int32\n"
          ]
        }
      ],
      "source": [
        "arr1 = np.array([1, 2, 3], dtype=np.float64)\n",
        "arr2 = np.array([1, 2, 3], dtype=np.int32)\n",
        "print(arr1.dtype)\n",
        "print(arr2.dtype)"
      ]
    },
    {
      "cell_type": "code",
      "execution_count": null,
      "id": "d7933ab9-0327-4eab-8282-51072c636c74",
      "metadata": {
        "id": "d7933ab9-0327-4eab-8282-51072c636c74"
      },
      "outputs": [],
      "source": [
        "# It’s important to be cautious\n",
        "# when using the numpy.string_ type,\n",
        "# as string data in NumPy is fixed size\n",
        "# and may truncate input without warning.\n",
        "# pandas has more intuitive out-of-the-box\n",
        "# behavior on non-numeric data."
      ]
    },
    {
      "cell_type": "code",
      "execution_count": 19,
      "id": "6d9d1f32-ba40-42dd-8495-0e2211891b57",
      "metadata": {
        "id": "6d9d1f32-ba40-42dd-8495-0e2211891b57"
      },
      "outputs": [],
      "source": [
        "arr1 = np.array([[1., 2., 3.], [4., 5., 6.]])\n",
        "arr2 = np.array([[0., 4., 1.], [7., 2., 12.]])"
      ]
    },
    {
      "cell_type": "code",
      "execution_count": 20,
      "id": "538ba21a-1e86-40ba-a8d1-19d0560f5c9d",
      "metadata": {
        "colab": {
          "base_uri": "https://localhost:8080/"
        },
        "id": "538ba21a-1e86-40ba-a8d1-19d0560f5c9d",
        "outputId": "23be3ac9-5810-409f-c579-506d22e812cf"
      },
      "outputs": [
        {
          "output_type": "stream",
          "name": "stdout",
          "text": [
            "[[1. 2. 3.]\n",
            " [4. 5. 6.]]\n",
            "[[ 0.  4.  1.]\n",
            " [ 7.  2. 12.]]\n"
          ]
        }
      ],
      "source": [
        "print(arr1)\n",
        "print(arr2)"
      ]
    },
    {
      "cell_type": "code",
      "execution_count": 21,
      "id": "dc8178c7-f530-488a-989f-8478f0659ae3",
      "metadata": {
        "colab": {
          "base_uri": "https://localhost:8080/"
        },
        "id": "dc8178c7-f530-488a-989f-8478f0659ae3",
        "outputId": "70601d02-87d7-4cf3-c842-e082c4022a2a"
      },
      "outputs": [
        {
          "output_type": "execute_result",
          "data": {
            "text/plain": [
              "array([[ 0.,  8.,  3.],\n",
              "       [28., 10., 72.]])"
            ]
          },
          "metadata": {},
          "execution_count": 21
        }
      ],
      "source": [
        "arr1*arr2"
      ]
    },
    {
      "cell_type": "code",
      "execution_count": 22,
      "id": "c0e6ac44-fc0c-4352-8676-a7169d2c1bd7",
      "metadata": {
        "colab": {
          "base_uri": "https://localhost:8080/"
        },
        "id": "c0e6ac44-fc0c-4352-8676-a7169d2c1bd7",
        "outputId": "3f64d170-343c-4a7b-ebb0-d557b270b380"
      },
      "outputs": [
        {
          "output_type": "stream",
          "name": "stdout",
          "text": [
            "[[ 1.  6.  4.]\n",
            " [11.  7. 18.]]\n",
            "[[ 1. -2.  2.]\n",
            " [-3.  3. -6.]]\n",
            "[[-1.  2. -2.]\n",
            " [ 3. -3.  6.]]\n"
          ]
        }
      ],
      "source": [
        "print(arr1+arr2)\n",
        "print(arr1-arr2)\n",
        "print(arr2-arr1)"
      ]
    },
    {
      "cell_type": "code",
      "execution_count": 23,
      "id": "a2011a4e-3035-4e7f-b252-4d9dd1df91ce",
      "metadata": {
        "colab": {
          "base_uri": "https://localhost:8080/"
        },
        "id": "a2011a4e-3035-4e7f-b252-4d9dd1df91ce",
        "outputId": "92831a19-0118-4332-beea-0a67ecbae9da"
      },
      "outputs": [
        {
          "output_type": "stream",
          "name": "stdout",
          "text": [
            "[[       inf 0.5        3.        ]\n",
            " [0.57142857 2.5        0.5       ]]\n",
            "[[0.         2.         0.33333333]\n",
            " [1.75       0.4        2.        ]]\n"
          ]
        },
        {
          "output_type": "stream",
          "name": "stderr",
          "text": [
            "<ipython-input-23-512899036138>:1: RuntimeWarning: divide by zero encountered in divide\n",
            "  print(arr1/arr2)\n"
          ]
        }
      ],
      "source": [
        "print(arr1/arr2)\n",
        "print(arr2/arr1)"
      ]
    },
    {
      "cell_type": "code",
      "execution_count": 24,
      "id": "5a053f6a-723d-4fdf-b4a0-fe458bf858cb",
      "metadata": {
        "colab": {
          "base_uri": "https://localhost:8080/"
        },
        "id": "5a053f6a-723d-4fdf-b4a0-fe458bf858cb",
        "outputId": "ddadb47a-00b0-4c81-a08b-01e055a750f4"
      },
      "outputs": [
        {
          "output_type": "stream",
          "name": "stdout",
          "text": [
            "[[ True False  True]\n",
            " [False  True False]]\n",
            "[[False  True False]\n",
            " [ True False  True]]\n"
          ]
        }
      ],
      "source": [
        "print(arr1>arr2)\n",
        "print(arr1<arr2)"
      ]
    },
    {
      "cell_type": "code",
      "execution_count": 25,
      "id": "b212a46b-0f3b-4893-bc17-e25faffe1b8a",
      "metadata": {
        "colab": {
          "base_uri": "https://localhost:8080/"
        },
        "id": "b212a46b-0f3b-4893-bc17-e25faffe1b8a",
        "outputId": "040abe33-3329-45e8-ca97-b40f62a7d61f"
      },
      "outputs": [
        {
          "output_type": "execute_result",
          "data": {
            "text/plain": [
              "array([0, 1, 2, 3, 4, 5, 6, 7, 8, 9])"
            ]
          },
          "metadata": {},
          "execution_count": 25
        }
      ],
      "source": [
        "arr = np.arange(10)\n",
        "arr"
      ]
    },
    {
      "cell_type": "code",
      "execution_count": 26,
      "id": "566276c0-5c4e-41d8-9f3a-53b3f5cd1df1",
      "metadata": {
        "colab": {
          "base_uri": "https://localhost:8080/"
        },
        "id": "566276c0-5c4e-41d8-9f3a-53b3f5cd1df1",
        "outputId": "7cbf6c90-cceb-4d73-9093-2544068fab4d"
      },
      "outputs": [
        {
          "output_type": "execute_result",
          "data": {
            "text/plain": [
              "array([5, 6, 7])"
            ]
          },
          "metadata": {},
          "execution_count": 26
        }
      ],
      "source": [
        "arr[5:8]"
      ]
    },
    {
      "cell_type": "code",
      "execution_count": 27,
      "id": "68437f12-ba40-4fe4-aadf-ec9182419f82",
      "metadata": {
        "colab": {
          "base_uri": "https://localhost:8080/"
        },
        "id": "68437f12-ba40-4fe4-aadf-ec9182419f82",
        "outputId": "f6cb0c4f-1f44-4af3-ff71-5195453971e4"
      },
      "outputs": [
        {
          "output_type": "execute_result",
          "data": {
            "text/plain": [
              "array([[1, 2, 3],\n",
              "       [4, 5, 6],\n",
              "       [7, 8, 9]])"
            ]
          },
          "metadata": {},
          "execution_count": 27
        }
      ],
      "source": [
        "arr2d = np.array([[1, 2, 3], [4, 5, 6], [7, 8, 9]])\n",
        "arr2d"
      ]
    },
    {
      "cell_type": "code",
      "execution_count": 28,
      "id": "3d44d297-6287-40b4-873c-7364d781266f",
      "metadata": {
        "colab": {
          "base_uri": "https://localhost:8080/"
        },
        "id": "3d44d297-6287-40b4-873c-7364d781266f",
        "outputId": "5864d16f-2129-41a2-abc7-2d166e461c56"
      },
      "outputs": [
        {
          "output_type": "execute_result",
          "data": {
            "text/plain": [
              "array([7, 8, 9])"
            ]
          },
          "metadata": {},
          "execution_count": 28
        }
      ],
      "source": [
        "arr2d[2]"
      ]
    },
    {
      "cell_type": "code",
      "execution_count": 29,
      "id": "8ba1df37-5aa6-4297-92fb-79dc213a7cd5",
      "metadata": {
        "colab": {
          "base_uri": "https://localhost:8080/"
        },
        "id": "8ba1df37-5aa6-4297-92fb-79dc213a7cd5",
        "outputId": "139979c5-9b81-451e-df96-a2302c3fc832"
      },
      "outputs": [
        {
          "output_type": "execute_result",
          "data": {
            "text/plain": [
              "3"
            ]
          },
          "metadata": {},
          "execution_count": 29
        }
      ],
      "source": [
        "arr2d[0][2]"
      ]
    },
    {
      "cell_type": "code",
      "execution_count": 30,
      "id": "8518a997-e49d-4455-a831-db26bc39f1f5",
      "metadata": {
        "colab": {
          "base_uri": "https://localhost:8080/"
        },
        "id": "8518a997-e49d-4455-a831-db26bc39f1f5",
        "outputId": "da14d17b-1d0d-48e1-a912-d90ff1e78c14"
      },
      "outputs": [
        {
          "output_type": "execute_result",
          "data": {
            "text/plain": [
              "3"
            ]
          },
          "metadata": {},
          "execution_count": 30
        }
      ],
      "source": [
        "arr2d[0, 2]"
      ]
    },
    {
      "cell_type": "code",
      "execution_count": 31,
      "id": "c8f8fd51-02d5-4807-a555-d0d5791c7416",
      "metadata": {
        "colab": {
          "base_uri": "https://localhost:8080/"
        },
        "id": "c8f8fd51-02d5-4807-a555-d0d5791c7416",
        "outputId": "3894641c-490d-4e59-bea2-9e4b42fc8386"
      },
      "outputs": [
        {
          "output_type": "execute_result",
          "data": {
            "text/plain": [
              "array([[[ 1,  2,  3],\n",
              "        [ 4,  5,  6]],\n",
              "\n",
              "       [[ 7,  8,  9],\n",
              "        [10, 11, 12]]])"
            ]
          },
          "metadata": {},
          "execution_count": 31
        }
      ],
      "source": [
        "arr3d = np.array([[[1, 2, 3], [4, 5, 6]], [[7, 8, 9], [10, 11, 12]]])\n",
        "arr3d"
      ]
    },
    {
      "cell_type": "code",
      "execution_count": 32,
      "id": "bd44b72d-4cc5-4045-9b54-4e63cf1fa83e",
      "metadata": {
        "colab": {
          "base_uri": "https://localhost:8080/"
        },
        "id": "bd44b72d-4cc5-4045-9b54-4e63cf1fa83e",
        "outputId": "72eab2d5-24fc-4fab-d482-7f9db33cb5be"
      },
      "outputs": [
        {
          "output_type": "execute_result",
          "data": {
            "text/plain": [
              "array([[1, 2, 3],\n",
              "       [4, 5, 6]])"
            ]
          },
          "metadata": {},
          "execution_count": 32
        }
      ],
      "source": [
        "arr3d[0]"
      ]
    },
    {
      "cell_type": "code",
      "execution_count": 33,
      "id": "3ff5dfc6-cb6f-4cb9-885f-e5f5bacba9c5",
      "metadata": {
        "colab": {
          "base_uri": "https://localhost:8080/"
        },
        "id": "3ff5dfc6-cb6f-4cb9-885f-e5f5bacba9c5",
        "outputId": "5b035ae2-0382-43f4-8440-0d4af31ec44f"
      },
      "outputs": [
        {
          "output_type": "execute_result",
          "data": {
            "text/plain": [
              "array([4, 5, 6])"
            ]
          },
          "metadata": {},
          "execution_count": 33
        }
      ],
      "source": [
        "arr3d[0,1]"
      ]
    },
    {
      "cell_type": "code",
      "execution_count": 34,
      "id": "ea17a720-58ec-41ee-b986-d16ed17f9e5c",
      "metadata": {
        "colab": {
          "base_uri": "https://localhost:8080/"
        },
        "id": "ea17a720-58ec-41ee-b986-d16ed17f9e5c",
        "outputId": "827f7ee0-f841-40a6-bba9-e8cf928d7515"
      },
      "outputs": [
        {
          "output_type": "execute_result",
          "data": {
            "text/plain": [
              "6"
            ]
          },
          "metadata": {},
          "execution_count": 34
        }
      ],
      "source": [
        "arr3d[0,1,2]"
      ]
    },
    {
      "cell_type": "code",
      "execution_count": 35,
      "id": "f1c6868b-e41c-43c2-b287-3431ef8a0098",
      "metadata": {
        "colab": {
          "base_uri": "https://localhost:8080/"
        },
        "id": "f1c6868b-e41c-43c2-b287-3431ef8a0098",
        "outputId": "5b6f0d2a-80ff-40e4-9634-8a46a04af0e9"
      },
      "outputs": [
        {
          "output_type": "execute_result",
          "data": {
            "text/plain": [
              "array([0, 1, 2, 3, 4, 5, 6, 7, 8, 9])"
            ]
          },
          "metadata": {},
          "execution_count": 35
        }
      ],
      "source": [
        "arr"
      ]
    },
    {
      "cell_type": "code",
      "execution_count": 36,
      "id": "82bf6f26-612d-416a-8a89-b7603ace7fd5",
      "metadata": {
        "colab": {
          "base_uri": "https://localhost:8080/"
        },
        "id": "82bf6f26-612d-416a-8a89-b7603ace7fd5",
        "outputId": "7e012f79-114a-4512-8af1-01e9e0974910"
      },
      "outputs": [
        {
          "output_type": "execute_result",
          "data": {
            "text/plain": [
              "array([1, 2, 3, 4, 5])"
            ]
          },
          "metadata": {},
          "execution_count": 36
        }
      ],
      "source": [
        "arr[1:6]"
      ]
    },
    {
      "cell_type": "code",
      "execution_count": 37,
      "id": "35981a7e-cc32-4025-aa75-637160c46edc",
      "metadata": {
        "colab": {
          "base_uri": "https://localhost:8080/"
        },
        "id": "35981a7e-cc32-4025-aa75-637160c46edc",
        "outputId": "e78d032b-3ac6-455e-b18e-6b456f99c759"
      },
      "outputs": [
        {
          "output_type": "execute_result",
          "data": {
            "text/plain": [
              "array([[1, 2, 3],\n",
              "       [4, 5, 6],\n",
              "       [7, 8, 9]])"
            ]
          },
          "metadata": {},
          "execution_count": 37
        }
      ],
      "source": [
        "arr2d"
      ]
    },
    {
      "cell_type": "code",
      "execution_count": 38,
      "id": "fc716ef4-aec1-4964-a7cb-940a4cc67fea",
      "metadata": {
        "colab": {
          "base_uri": "https://localhost:8080/"
        },
        "id": "fc716ef4-aec1-4964-a7cb-940a4cc67fea",
        "outputId": "18ac6ac3-3e73-44c6-de78-470c7cc6793b"
      },
      "outputs": [
        {
          "output_type": "execute_result",
          "data": {
            "text/plain": [
              "array([[1, 2, 3],\n",
              "       [4, 5, 6]])"
            ]
          },
          "metadata": {},
          "execution_count": 38
        }
      ],
      "source": [
        "arr2d[:2]"
      ]
    },
    {
      "cell_type": "code",
      "execution_count": 39,
      "id": "706ef9b9-ceb6-445b-aec4-e7e170041bc4",
      "metadata": {
        "colab": {
          "base_uri": "https://localhost:8080/"
        },
        "id": "706ef9b9-ceb6-445b-aec4-e7e170041bc4",
        "outputId": "8aee3f8f-c4cc-4e45-abae-71afcccceafd"
      },
      "outputs": [
        {
          "output_type": "execute_result",
          "data": {
            "text/plain": [
              "array([[2, 3],\n",
              "       [5, 6]])"
            ]
          },
          "metadata": {},
          "execution_count": 39
        }
      ],
      "source": [
        "arr2d[:2, 1:]"
      ]
    },
    {
      "cell_type": "code",
      "execution_count": 40,
      "id": "0c75e239-5490-4d8c-b5ab-ec4042a6384d",
      "metadata": {
        "colab": {
          "base_uri": "https://localhost:8080/"
        },
        "id": "0c75e239-5490-4d8c-b5ab-ec4042a6384d",
        "outputId": "b89335bd-e4ac-4a9c-ce67-dedca0af8c26"
      },
      "outputs": [
        {
          "output_type": "execute_result",
          "data": {
            "text/plain": [
              "array([4, 5])"
            ]
          },
          "metadata": {},
          "execution_count": 40
        }
      ],
      "source": [
        "arr2d[1, :2]"
      ]
    },
    {
      "cell_type": "code",
      "execution_count": 41,
      "id": "ea92cb25-3b62-4d29-a52e-ba06e2d1b646",
      "metadata": {
        "colab": {
          "base_uri": "https://localhost:8080/"
        },
        "id": "ea92cb25-3b62-4d29-a52e-ba06e2d1b646",
        "outputId": "22eaa754-d7bf-4f98-bc7d-548209547276"
      },
      "outputs": [
        {
          "output_type": "execute_result",
          "data": {
            "text/plain": [
              "array([[1],\n",
              "       [4],\n",
              "       [7]])"
            ]
          },
          "metadata": {},
          "execution_count": 41
        }
      ],
      "source": [
        "# Note that a colon by itself means\n",
        "# to take the entire axis,\n",
        "# so you can slice only higher dimensional axes\n",
        "# by doing:\n",
        "arr2d[:, :1]"
      ]
    },
    {
      "cell_type": "code",
      "execution_count": 42,
      "id": "9ecb2fce-64a8-430c-885b-aba3b2180d59",
      "metadata": {
        "colab": {
          "base_uri": "https://localhost:8080/"
        },
        "id": "9ecb2fce-64a8-430c-885b-aba3b2180d59",
        "outputId": "ca588dcb-9c23-477e-eaed-a7a463160edf"
      },
      "outputs": [
        {
          "output_type": "execute_result",
          "data": {
            "text/plain": [
              "(3, 1)"
            ]
          },
          "metadata": {},
          "execution_count": 42
        }
      ],
      "source": [
        "arr2d[:, :1].shape"
      ]
    },
    {
      "cell_type": "code",
      "execution_count": 43,
      "id": "b2216d5c-4c33-40de-998e-4b7988c5b944",
      "metadata": {
        "colab": {
          "base_uri": "https://localhost:8080/"
        },
        "id": "b2216d5c-4c33-40de-998e-4b7988c5b944",
        "outputId": "e114ad28-2015-46e0-a0ff-fbbd7b3af1a9"
      },
      "outputs": [
        {
          "output_type": "execute_result",
          "data": {
            "text/plain": [
              "array([[ 0,  1,  2,  3],\n",
              "       [ 4,  5,  6,  7],\n",
              "       [ 8,  9, 10, 11],\n",
              "       [12, 13, 14, 15],\n",
              "       [16, 17, 18, 19],\n",
              "       [20, 21, 22, 23],\n",
              "       [24, 25, 26, 27],\n",
              "       [28, 29, 30, 31]])"
            ]
          },
          "metadata": {},
          "execution_count": 43
        }
      ],
      "source": [
        "arr = np.arange(32).reshape((8, 4))\n",
        "arr"
      ]
    },
    {
      "cell_type": "code",
      "execution_count": 44,
      "id": "1dc10b56-e623-4b41-9810-e1a7664fe23c",
      "metadata": {
        "colab": {
          "base_uri": "https://localhost:8080/"
        },
        "id": "1dc10b56-e623-4b41-9810-e1a7664fe23c",
        "outputId": "f3b80243-b1b9-43b0-e719-198b2f2562b9"
      },
      "outputs": [
        {
          "output_type": "execute_result",
          "data": {
            "text/plain": [
              "array([ 4, 23, 29, 10])"
            ]
          },
          "metadata": {},
          "execution_count": 44
        }
      ],
      "source": [
        " arr[[1, 5, 7, 2], [0, 3, 1, 2]]"
      ]
    },
    {
      "cell_type": "code",
      "execution_count": 45,
      "id": "db64928b-1dc4-4bf4-b3d1-7f4f42038cac",
      "metadata": {
        "id": "db64928b-1dc4-4bf4-b3d1-7f4f42038cac"
      },
      "outputs": [],
      "source": [
        "points = np.arange(-5, 5, 0.01)"
      ]
    },
    {
      "cell_type": "code",
      "execution_count": 46,
      "id": "06c84136-aa89-4e7d-8168-b6a066ee1f20",
      "metadata": {
        "id": "06c84136-aa89-4e7d-8168-b6a066ee1f20"
      },
      "outputs": [],
      "source": [
        "xs, ys = np.meshgrid(points, points)"
      ]
    },
    {
      "cell_type": "code",
      "execution_count": 47,
      "id": "0fec5c07-1ff8-4c72-a1c0-32f5cf922c89",
      "metadata": {
        "colab": {
          "base_uri": "https://localhost:8080/"
        },
        "id": "0fec5c07-1ff8-4c72-a1c0-32f5cf922c89",
        "outputId": "469c7323-1a5d-4c3a-9655-78ff66bb672b"
      },
      "outputs": [
        {
          "output_type": "execute_result",
          "data": {
            "text/plain": [
              "array([[-5.  , -5.  , -5.  , ..., -5.  , -5.  , -5.  ],\n",
              "       [-4.99, -4.99, -4.99, ..., -4.99, -4.99, -4.99],\n",
              "       [-4.98, -4.98, -4.98, ..., -4.98, -4.98, -4.98],\n",
              "       ...,\n",
              "       [ 4.97,  4.97,  4.97, ...,  4.97,  4.97,  4.97],\n",
              "       [ 4.98,  4.98,  4.98, ...,  4.98,  4.98,  4.98],\n",
              "       [ 4.99,  4.99,  4.99, ...,  4.99,  4.99,  4.99]])"
            ]
          },
          "metadata": {},
          "execution_count": 47
        }
      ],
      "source": [
        "ys"
      ]
    },
    {
      "cell_type": "code",
      "execution_count": 48,
      "id": "c8e790bb-fd73-467f-b102-376edc775aaf",
      "metadata": {
        "colab": {
          "base_uri": "https://localhost:8080/"
        },
        "id": "c8e790bb-fd73-467f-b102-376edc775aaf",
        "outputId": "22e332f6-08a1-4cfe-eff9-39bbca13fb19"
      },
      "outputs": [
        {
          "output_type": "execute_result",
          "data": {
            "text/plain": [
              "(1000, 1000)"
            ]
          },
          "metadata": {},
          "execution_count": 48
        }
      ],
      "source": [
        "ys.shape"
      ]
    },
    {
      "cell_type": "code",
      "execution_count": 49,
      "id": "68799fd3-7a22-4bc1-bdf0-eee6d267e73e",
      "metadata": {
        "id": "68799fd3-7a22-4bc1-bdf0-eee6d267e73e"
      },
      "outputs": [],
      "source": [
        "z = np.sqrt(xs ** 2 + ys ** 2)"
      ]
    },
    {
      "cell_type": "code",
      "execution_count": 50,
      "id": "9ccd4bb7-93d1-4999-914e-8d9e8cc1c414",
      "metadata": {
        "colab": {
          "base_uri": "https://localhost:8080/"
        },
        "id": "9ccd4bb7-93d1-4999-914e-8d9e8cc1c414",
        "outputId": "84e6dfae-9e44-45b6-8291-c65c4d4b0b27"
      },
      "outputs": [
        {
          "output_type": "execute_result",
          "data": {
            "text/plain": [
              "array([[7.07106781, 7.06400028, 7.05693985, ..., 7.04988652, 7.05693985,\n",
              "        7.06400028],\n",
              "       [7.06400028, 7.05692568, 7.04985815, ..., 7.04279774, 7.04985815,\n",
              "        7.05692568],\n",
              "       [7.05693985, 7.04985815, 7.04278354, ..., 7.03571603, 7.04278354,\n",
              "        7.04985815],\n",
              "       ...,\n",
              "       [7.04988652, 7.04279774, 7.03571603, ..., 7.0286414 , 7.03571603,\n",
              "        7.04279774],\n",
              "       [7.05693985, 7.04985815, 7.04278354, ..., 7.03571603, 7.04278354,\n",
              "        7.04985815],\n",
              "       [7.06400028, 7.05692568, 7.04985815, ..., 7.04279774, 7.04985815,\n",
              "        7.05692568]])"
            ]
          },
          "metadata": {},
          "execution_count": 50
        }
      ],
      "source": [
        "z"
      ]
    },
    {
      "cell_type": "code",
      "execution_count": 51,
      "id": "4d9fe5e3-ddd9-46a3-b41a-70f8f8a29ded",
      "metadata": {
        "colab": {
          "base_uri": "https://localhost:8080/",
          "height": 479
        },
        "id": "4d9fe5e3-ddd9-46a3-b41a-70f8f8a29ded",
        "outputId": "e214882d-b140-436e-ac72-c7c954ae67ae"
      },
      "outputs": [
        {
          "output_type": "execute_result",
          "data": {
            "text/plain": [
              "Text(0.5, 1.0, 'Image plot of $\\\\sqrt{x^2 + y^2}$ for a grid of values')"
            ]
          },
          "metadata": {},
          "execution_count": 51
        },
        {
          "output_type": "display_data",
          "data": {
            "text/plain": [
              "<Figure size 640x480 with 2 Axes>"
            ],
            "image/png": "[encoded data removed]"
          },
          "metadata": {}
        }
      ],
      "source": [
        "import matplotlib.pyplot as plt\n",
        "plt.imshow(z, cmap= plt.cm.gray);\n",
        "plt.colorbar()\n",
        "plt.title(\"Image plot of $\\sqrt{x^2 + y^2}$ for a grid of values\")"
      ]
    },
    {
      "cell_type": "code",
      "execution_count": 52,
      "id": "59473998-d882-4231-b00d-7887d509df94",
      "metadata": {
        "colab": {
          "base_uri": "https://localhost:8080/"
        },
        "id": "59473998-d882-4231-b00d-7887d509df94",
        "outputId": "34f024ea-7de9-4dba-f1db-c53bb8ac8c81"
      },
      "outputs": [
        {
          "output_type": "execute_result",
          "data": {
            "text/plain": [
              "array([[ 0.86210132,  0.97139187,  2.68753291, -0.87127676],\n",
              "       [ 0.78070308, -0.82561211,  0.3491003 , -1.58625872],\n",
              "       [-1.21845025,  0.33562423, -0.29406386,  1.06152085],\n",
              "       [-0.03337973, -0.1801723 , -0.12351549, -1.811104  ],\n",
              "       [-0.07801511,  0.6191435 , -2.43982302, -0.10919176]])"
            ]
          },
          "metadata": {},
          "execution_count": 52
        }
      ],
      "source": [
        "arr = np.random.randn(5,4)\n",
        "arr"
      ]
    },
    {
      "cell_type": "code",
      "execution_count": 53,
      "id": "bdc5cf6c-2b8b-4e8e-acbf-388591a32613",
      "metadata": {
        "colab": {
          "base_uri": "https://localhost:8080/"
        },
        "id": "bdc5cf6c-2b8b-4e8e-acbf-388591a32613",
        "outputId": "0c1f32f4-37a4-438d-e99e-6ceb2d45e373"
      },
      "outputs": [
        {
          "output_type": "execute_result",
          "data": {
            "text/plain": [
              "-0.09518725240632361"
            ]
          },
          "metadata": {},
          "execution_count": 53
        }
      ],
      "source": [
        "arr.mean()"
      ]
    },
    {
      "cell_type": "code",
      "execution_count": 54,
      "id": "45bae49a-6c8a-41fa-9c67-56786fa67db6",
      "metadata": {
        "colab": {
          "base_uri": "https://localhost:8080/"
        },
        "id": "45bae49a-6c8a-41fa-9c67-56786fa67db6",
        "outputId": "387a1f64-6e62-4405-90c9-280437dbf528"
      },
      "outputs": [
        {
          "output_type": "execute_result",
          "data": {
            "text/plain": [
              "-0.09518725240632361"
            ]
          },
          "metadata": {},
          "execution_count": 54
        }
      ],
      "source": [
        "np.mean(arr)"
      ]
    },
    {
      "cell_type": "code",
      "execution_count": 55,
      "id": "28afecf4-7c1f-4bc1-86e8-b6c5d14eee9d",
      "metadata": {
        "colab": {
          "base_uri": "https://localhost:8080/"
        },
        "id": "28afecf4-7c1f-4bc1-86e8-b6c5d14eee9d",
        "outputId": "463d66da-1c6f-42ec-e004-22c24f10a7db"
      },
      "outputs": [
        {
          "output_type": "execute_result",
          "data": {
            "text/plain": [
              "-1.9037450481264724"
            ]
          },
          "metadata": {},
          "execution_count": 55
        }
      ],
      "source": [
        "arr.sum()"
      ]
    },
    {
      "cell_type": "code",
      "execution_count": 56,
      "id": "fcad57a2-77dc-4abe-b12d-63e1ecfcfba3",
      "metadata": {
        "colab": {
          "base_uri": "https://localhost:8080/"
        },
        "id": "fcad57a2-77dc-4abe-b12d-63e1ecfcfba3",
        "outputId": "a437def6-1f90-4229-a5fc-cbfc143536dd"
      },
      "outputs": [
        {
          "output_type": "execute_result",
          "data": {
            "text/plain": [
              "array([ 0.91243734, -0.32051686, -0.02884226, -0.53704288, -0.5019716 ])"
            ]
          },
          "metadata": {},
          "execution_count": 56
        }
      ],
      "source": [
        "arr.mean(axis = 1)"
      ]
    },
    {
      "cell_type": "code",
      "execution_count": 57,
      "id": "2a6e6b16-ca84-4830-95c9-2a02fda6fc04",
      "metadata": {
        "colab": {
          "base_uri": "https://localhost:8080/"
        },
        "id": "2a6e6b16-ca84-4830-95c9-2a02fda6fc04",
        "outputId": "c8022585-21a2-479a-ac11-1a6db78c7715"
      },
      "outputs": [
        {
          "output_type": "execute_result",
          "data": {
            "text/plain": [
              "array([ 0.31295931,  0.92037519,  0.17923083, -3.31631038])"
            ]
          },
          "metadata": {},
          "execution_count": 57
        }
      ],
      "source": [
        "arr.sum(axis = 0)"
      ]
    },
    {
      "cell_type": "code",
      "execution_count": 58,
      "id": "12ec2abe-8611-47e2-acf8-266a8971523c",
      "metadata": {
        "colab": {
          "base_uri": "https://localhost:8080/"
        },
        "id": "12ec2abe-8611-47e2-acf8-266a8971523c",
        "outputId": "f0b94e3a-c083-43ff-9eb3-01621f719945"
      },
      "outputs": [
        {
          "output_type": "execute_result",
          "data": {
            "text/plain": [
              "array([0, 1, 2, 3, 4, 5, 6, 7])"
            ]
          },
          "metadata": {},
          "execution_count": 58
        }
      ],
      "source": [
        "arr = np.arange(8)\n",
        "arr"
      ]
    },
    {
      "cell_type": "code",
      "execution_count": 59,
      "id": "1aa4c711-27f7-4c63-bb22-7a1d306b9163",
      "metadata": {
        "colab": {
          "base_uri": "https://localhost:8080/"
        },
        "id": "1aa4c711-27f7-4c63-bb22-7a1d306b9163",
        "outputId": "41935ed0-e8ef-4c87-be18-5dd0b5c50824"
      },
      "outputs": [
        {
          "output_type": "execute_result",
          "data": {
            "text/plain": [
              "array([ 0,  1,  3,  6, 10, 15, 21, 28])"
            ]
          },
          "metadata": {},
          "execution_count": 59
        }
      ],
      "source": [
        "arr.cumsum()"
      ]
    },
    {
      "cell_type": "code",
      "execution_count": 60,
      "id": "62a4dab5-0ff2-48db-9ef5-b0ef7b4240f2",
      "metadata": {
        "id": "62a4dab5-0ff2-48db-9ef5-b0ef7b4240f2"
      },
      "outputs": [],
      "source": [
        "arr = np.array([[0, 1, 2], [3, 4, 5], [6, 7, 8]])"
      ]
    },
    {
      "cell_type": "code",
      "execution_count": 61,
      "id": "21618c8b-6c88-4f61-a6cd-8259f1bef942",
      "metadata": {
        "colab": {
          "base_uri": "https://localhost:8080/"
        },
        "id": "21618c8b-6c88-4f61-a6cd-8259f1bef942",
        "outputId": "003d3b98-5e18-4a12-fb6d-c2fb502ee77d"
      },
      "outputs": [
        {
          "output_type": "execute_result",
          "data": {
            "text/plain": [
              "array([[0, 1, 2],\n",
              "       [3, 4, 5],\n",
              "       [6, 7, 8]])"
            ]
          },
          "metadata": {},
          "execution_count": 61
        }
      ],
      "source": [
        "arr"
      ]
    },
    {
      "cell_type": "code",
      "execution_count": 62,
      "id": "4afdfe17-db97-4eb5-a6cb-df811710c12f",
      "metadata": {
        "colab": {
          "base_uri": "https://localhost:8080/"
        },
        "id": "4afdfe17-db97-4eb5-a6cb-df811710c12f",
        "outputId": "8cc28901-b704-43b9-f09e-7c054bf43a84"
      },
      "outputs": [
        {
          "output_type": "execute_result",
          "data": {
            "text/plain": [
              "array([[ 0,  1,  2],\n",
              "       [ 3,  5,  7],\n",
              "       [ 9, 12, 15]])"
            ]
          },
          "metadata": {},
          "execution_count": 62
        }
      ],
      "source": [
        "arr.cumsum(axis=0)"
      ]
    },
    {
      "cell_type": "code",
      "execution_count": 63,
      "id": "87abbf49-b040-41df-b181-9f214258f841",
      "metadata": {
        "colab": {
          "base_uri": "https://localhost:8080/"
        },
        "id": "87abbf49-b040-41df-b181-9f214258f841",
        "outputId": "a7fa716d-68c2-4231-c8c8-0f5cea46d8ba"
      },
      "outputs": [
        {
          "output_type": "execute_result",
          "data": {
            "text/plain": [
              "array([[  0,   0,   0],\n",
              "       [  3,  12,  60],\n",
              "       [  6,  42, 336]])"
            ]
          },
          "metadata": {},
          "execution_count": 63
        }
      ],
      "source": [
        "arr.cumprod(axis=1)"
      ]
    },
    {
      "cell_type": "code",
      "execution_count": 64,
      "id": "dac2387c-2d9b-46f3-b98b-6eaceecf3e5e",
      "metadata": {
        "id": "dac2387c-2d9b-46f3-b98b-6eaceecf3e5e"
      },
      "outputs": [],
      "source": [
        "arr= np.random.randn(100)"
      ]
    },
    {
      "cell_type": "code",
      "execution_count": 65,
      "id": "ef8da377-5b0c-40f3-b310-483f98b4f763",
      "metadata": {
        "colab": {
          "base_uri": "https://localhost:8080/"
        },
        "id": "ef8da377-5b0c-40f3-b310-483f98b4f763",
        "outputId": "fa529b49-230a-402b-d9d6-f28b18e80c75"
      },
      "outputs": [
        {
          "output_type": "execute_result",
          "data": {
            "text/plain": [
              "49"
            ]
          },
          "metadata": {},
          "execution_count": 65
        }
      ],
      "source": [
        "(arr>0).sum()"
      ]
    },
    {
      "cell_type": "code",
      "execution_count": 66,
      "id": "c96f393d-d76f-442c-8cea-3579023c05e2",
      "metadata": {
        "id": "c96f393d-d76f-442c-8cea-3579023c05e2"
      },
      "outputs": [],
      "source": [
        "bools = np.array([False, False, True, False])"
      ]
    },
    {
      "cell_type": "code",
      "execution_count": 67,
      "id": "5e40413c-c56d-4b76-9137-0bf78d6c0587",
      "metadata": {
        "colab": {
          "base_uri": "https://localhost:8080/"
        },
        "id": "5e40413c-c56d-4b76-9137-0bf78d6c0587",
        "outputId": "21504ee6-ae7b-4a6a-b7cf-ae673a9c9592"
      },
      "outputs": [
        {
          "output_type": "execute_result",
          "data": {
            "text/plain": [
              "True"
            ]
          },
          "metadata": {},
          "execution_count": 67
        }
      ],
      "source": [
        "bools.any()"
      ]
    },
    {
      "cell_type": "code",
      "execution_count": 68,
      "id": "3c43af9c-ce27-4163-a68c-757552c9ff03",
      "metadata": {
        "colab": {
          "base_uri": "https://localhost:8080/"
        },
        "id": "3c43af9c-ce27-4163-a68c-757552c9ff03",
        "outputId": "cc5cf089-3828-48a1-d43c-4f20ddca6275"
      },
      "outputs": [
        {
          "output_type": "execute_result",
          "data": {
            "text/plain": [
              "False"
            ]
          },
          "metadata": {},
          "execution_count": 68
        }
      ],
      "source": [
        "bools.all()"
      ]
    },
    {
      "cell_type": "code",
      "execution_count": 69,
      "id": "c7c70a33-0d6e-4064-8f6e-cc06341e7d2d",
      "metadata": {
        "id": "c7c70a33-0d6e-4064-8f6e-cc06341e7d2d"
      },
      "outputs": [],
      "source": [
        "arr = np.random.randn(6)"
      ]
    },
    {
      "cell_type": "code",
      "execution_count": 70,
      "id": "52ef1422-cd99-4934-b2bc-42990c49b604",
      "metadata": {
        "colab": {
          "base_uri": "https://localhost:8080/"
        },
        "id": "52ef1422-cd99-4934-b2bc-42990c49b604",
        "outputId": "bc78029b-9cef-423b-875e-57c7e57b3385"
      },
      "outputs": [
        {
          "output_type": "execute_result",
          "data": {
            "text/plain": [
              "array([ 1.04082546,  0.45587731, -0.76825185, -1.05007157, -0.98448067,\n",
              "       -0.64116379])"
            ]
          },
          "metadata": {},
          "execution_count": 70
        }
      ],
      "source": [
        "arr"
      ]
    },
    {
      "cell_type": "code",
      "execution_count": 71,
      "id": "b5d7a28d-bc8b-4c78-bed4-137ec56475f2",
      "metadata": {
        "id": "b5d7a28d-bc8b-4c78-bed4-137ec56475f2"
      },
      "outputs": [],
      "source": [
        "arr.sort()"
      ]
    },
    {
      "cell_type": "code",
      "execution_count": 72,
      "id": "6b18321f-50ec-48b2-8620-150a2fa2ecd3",
      "metadata": {
        "colab": {
          "base_uri": "https://localhost:8080/"
        },
        "id": "6b18321f-50ec-48b2-8620-150a2fa2ecd3",
        "outputId": "43040ff8-8181-4c14-e9fd-c2a774c001ac"
      },
      "outputs": [
        {
          "output_type": "execute_result",
          "data": {
            "text/plain": [
              "array([-1.05007157, -0.98448067, -0.76825185, -0.64116379,  0.45587731,\n",
              "        1.04082546])"
            ]
          },
          "metadata": {},
          "execution_count": 72
        }
      ],
      "source": [
        "arr"
      ]
    },
    {
      "cell_type": "code",
      "execution_count": 73,
      "id": "819ce030-a2d2-4ddc-a60d-67effc2c7941",
      "metadata": {
        "colab": {
          "base_uri": "https://localhost:8080/"
        },
        "id": "819ce030-a2d2-4ddc-a60d-67effc2c7941",
        "outputId": "04ae058a-eb7d-4ea8-90da-2dae79abfd41"
      },
      "outputs": [
        {
          "output_type": "execute_result",
          "data": {
            "text/plain": [
              "array([[-0.18993106, -0.76607804, -1.18647076],\n",
              "       [-1.03882002,  0.26411378, -0.51017424],\n",
              "       [-0.41808873,  1.16107053,  1.13958553],\n",
              "       [-1.03520525,  0.82772125,  0.79385806],\n",
              "       [ 0.50124559, -0.55788362, -0.06754295]])"
            ]
          },
          "metadata": {},
          "execution_count": 73
        }
      ],
      "source": [
        "arr = np.random.randn(5, 3)\n",
        "arr"
      ]
    },
    {
      "cell_type": "code",
      "execution_count": 74,
      "id": "fc3e8b4a-1784-4834-90d0-97951f1b97f3",
      "metadata": {
        "colab": {
          "base_uri": "https://localhost:8080/"
        },
        "id": "fc3e8b4a-1784-4834-90d0-97951f1b97f3",
        "outputId": "fe84d4ab-cfaf-488e-9939-de128d638939"
      },
      "outputs": [
        {
          "output_type": "execute_result",
          "data": {
            "text/plain": [
              "array([[-1.18647076, -0.76607804, -0.18993106],\n",
              "       [-1.03882002, -0.51017424,  0.26411378],\n",
              "       [-0.41808873,  1.13958553,  1.16107053],\n",
              "       [-1.03520525,  0.79385806,  0.82772125],\n",
              "       [-0.55788362, -0.06754295,  0.50124559]])"
            ]
          },
          "metadata": {},
          "execution_count": 74
        }
      ],
      "source": [
        "arr.sort(1)\n",
        "arr"
      ]
    },
    {
      "cell_type": "code",
      "execution_count": 75,
      "id": "478b95a9-606d-4574-9a05-5252c36e90ce",
      "metadata": {
        "colab": {
          "base_uri": "https://localhost:8080/",
          "height": 465
        },
        "id": "478b95a9-606d-4574-9a05-5252c36e90ce",
        "outputId": "5af5db72-6a03-43ee-e64f-031def641fb8"
      },
      "outputs": [
        {
          "output_type": "stream",
          "name": "stdout",
          "text": [
            "[<matplotlib.lines.Line2D object at 0x79ee34f530d0>]\n",
            "1001\n"
          ]
        },
        {
          "output_type": "display_data",
          "data": {
            "text/plain": [
              "<Figure size 640x480 with 1 Axes>"
            ],
            "image/png": "[encoded data removed]"
          },
          "metadata": {}
        }
      ],
      "source": [
        "import random\n",
        "import matplotlib.pyplot as plt\n",
        "position = 0\n",
        "walk = [position]\n",
        "steps = 1000\n",
        "for i in range(steps):\n",
        "    step = 1 if random.randint(0,1) else -1\n",
        "    position += step\n",
        "    walk.append(position)\n",
        "print(plt.plot(walk[:100]))\n",
        "print(len(walk))\n"
      ]
    }
  ],
  "metadata": {
    "kernelspec": {
      "display_name": "Python 3 (ipykernel)",
      "language": "python",
      "name": "python3"
    },
    "language_info": {
      "codemirror_mode": {
        "name": "ipython",
        "version": 3
      },
      "file_extension": ".py",
      "mimetype": "text/x-python",
      "name": "python",
      "nbconvert_exporter": "python",
      "pygments_lexer": "ipython3",
      "version": "3.8.0"
    },
    "colab": {
      "provenance": []
    }
  },
  "nbformat": 4,
  "nbformat_minor": 5
}