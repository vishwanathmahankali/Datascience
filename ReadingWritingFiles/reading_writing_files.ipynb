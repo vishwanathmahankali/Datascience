{
  "cells": [
    {
      "cell_type": "code",
      "execution_count": 1,
      "id": "d3ddc6e7-628d-4756-8dcc-5fe1172438c0",
      "metadata": {
        "id": "d3ddc6e7-628d-4756-8dcc-5fe1172438c0"
      },
      "outputs": [],
      "source": [
        "import os"
      ]
    },
    {
      "cell_type": "code",
      "execution_count": 2,
      "id": "e5bc5688-cd76-4464-89ff-5acaba94cc48",
      "metadata": {
        "id": "e5bc5688-cd76-4464-89ff-5acaba94cc48",
        "outputId": "1ef7d26b-67c8-4d7c-9e35-6237ecd49c57",
        "colab": {
          "base_uri": "https://localhost:8080/",
          "height": 36
        }
      },
      "outputs": [
        {
          "output_type": "execute_result",
          "data": {
            "text/plain": [
              "'/content'"
            ],
            "application/vnd.google.colaboratory.intrinsic+json": {
              "type": "string"
            }
          },
          "metadata": {},
          "execution_count": 2
        }
      ],
      "source": [
        "os.getcwd()"
      ]
    },
    {
      "cell_type": "code",
      "execution_count": 3,
      "id": "a2355f50-6a83-4843-96d2-7128f5f6c62b",
      "metadata": {
        "id": "a2355f50-6a83-4843-96d2-7128f5f6c62b",
        "outputId": "a611d63c-ccf1-46b3-ce38-09289193bf69",
        "colab": {
          "base_uri": "https://localhost:8080/"
        }
      },
      "outputs": [
        {
          "output_type": "stream",
          "name": "stdout",
          "text": [
            "Help on built-in function listdir in module posix:\n",
            "\n",
            "listdir(path=None)\n",
            "    Return a list containing the names of the files in the directory.\n",
            "    \n",
            "    path can be specified as either str, bytes, or a path-like object.  If path is bytes,\n",
            "      the filenames returned will also be bytes; in all other circumstances\n",
            "      the filenames returned will be str.\n",
            "    If path is None, uses the path='.'.\n",
            "    On some platforms, path may also be specified as an open file descriptor;\\\n",
            "      the file descriptor must refer to a directory.\n",
            "      If this functionality is unavailable, using it raises NotImplementedError.\n",
            "    \n",
            "    The list is in arbitrary order.  It does not include the special\n",
            "    entries '.' and '..' even if they are present in the directory.\n",
            "\n"
          ]
        }
      ],
      "source": [
        "help(os.listdir)"
      ]
    },
    {
      "cell_type": "code",
      "execution_count": 4,
      "id": "13ff4955-888c-41f6-9e03-6995c9aa6c44",
      "metadata": {
        "id": "13ff4955-888c-41f6-9e03-6995c9aa6c44",
        "outputId": "64ed7430-93b8-419f-f97c-b7946230a198",
        "colab": {
          "base_uri": "https://localhost:8080/"
        }
      },
      "outputs": [
        {
          "output_type": "execute_result",
          "data": {
            "text/plain": [
              "['.config', 'sample_data']"
            ]
          },
          "metadata": {},
          "execution_count": 4
        }
      ],
      "source": [
        "os.listdir('.')"
      ]
    },
    {
      "cell_type": "code",
      "execution_count": 5,
      "id": "9cd5b708-1faf-455a-86b7-bf87d73f0250",
      "metadata": {
        "id": "9cd5b708-1faf-455a-86b7-bf87d73f0250"
      },
      "outputs": [],
      "source": [
        "os.makedirs('./data', exist_ok = True)"
      ]
    },
    {
      "cell_type": "code",
      "execution_count": 6,
      "id": "001b2ac4-3a03-4426-a1b6-17f0e27e6154",
      "metadata": {
        "id": "001b2ac4-3a03-4426-a1b6-17f0e27e6154",
        "outputId": "73297dbd-9512-4074-e0e6-4837ecbc45b4",
        "colab": {
          "base_uri": "https://localhost:8080/"
        }
      },
      "outputs": [
        {
          "output_type": "execute_result",
          "data": {
            "text/plain": [
              "True"
            ]
          },
          "metadata": {},
          "execution_count": 6
        }
      ],
      "source": [
        "'data' in os.listdir('.')"
      ]
    },
    {
      "cell_type": "code",
      "execution_count": 7,
      "id": "1cb8b6b1-9404-47fe-adec-6601916e589e",
      "metadata": {
        "id": "1cb8b6b1-9404-47fe-adec-6601916e589e",
        "outputId": "7ecc1430-8f80-4d53-bfb0-8c82ec9d5325",
        "colab": {
          "base_uri": "https://localhost:8080/"
        }
      },
      "outputs": [
        {
          "output_type": "execute_result",
          "data": {
            "text/plain": [
              "[]"
            ]
          },
          "metadata": {},
          "execution_count": 7
        }
      ],
      "source": [
        "os.listdir('./data')"
      ]
    },
    {
      "cell_type": "code",
      "execution_count": 8,
      "id": "a0106f5a-f841-487a-8a06-c226480bdcb7",
      "metadata": {
        "id": "a0106f5a-f841-487a-8a06-c226480bdcb7"
      },
      "outputs": [],
      "source": [
        "url1 = 'https://gist.githubusercontent.com/aakashns/257f6e6c8719c17d0e498ea287d1a386/raw/7def9ef4234ddf0bc82f855ad67dac8b971852ef/loans1.txt'\n",
        "url2 = 'https://gist.githubusercontent.com/aakashns/257f6e6c8719c17d0e498ea287d1a386/raw/7def9ef4234ddf0bc82f855ad67dac8b971852ef/loans2.txt'\n",
        "url3 = 'https://gist.githubusercontent.com/aakashns/257f6e6c8719c17d0e498ea287d1a386/raw/7def9ef4234ddf0bc82f855ad67dac8b971852ef/loans3.txt'"
      ]
    },
    {
      "cell_type": "code",
      "execution_count": 9,
      "id": "b6a04f05-068c-42c1-a69f-eaa8a0a45a40",
      "metadata": {
        "id": "b6a04f05-068c-42c1-a69f-eaa8a0a45a40"
      },
      "outputs": [],
      "source": [
        "from urllib.request import urlretrieve"
      ]
    },
    {
      "cell_type": "code",
      "execution_count": 10,
      "id": "b0bbbd85-ef21-4a56-b302-eb7fc65beaa2",
      "metadata": {
        "id": "b0bbbd85-ef21-4a56-b302-eb7fc65beaa2",
        "outputId": "95324634-8ae2-4d88-f915-ce00d584e054",
        "colab": {
          "base_uri": "https://localhost:8080/"
        }
      },
      "outputs": [
        {
          "output_type": "execute_result",
          "data": {
            "text/plain": [
              "('./data/loans1.txt', <http.client.HTTPMessage at 0x796212f884f0>)"
            ]
          },
          "metadata": {},
          "execution_count": 10
        }
      ],
      "source": [
        "urlretrieve(url1, './data/loans1.txt')"
      ]
    },
    {
      "cell_type": "code",
      "execution_count": 11,
      "id": "00aeb57b-ef12-47f2-b841-47c886d59e26",
      "metadata": {
        "id": "00aeb57b-ef12-47f2-b841-47c886d59e26",
        "outputId": "aeb86bba-94b6-442c-e04f-19160379daaf",
        "colab": {
          "base_uri": "https://localhost:8080/"
        }
      },
      "outputs": [
        {
          "output_type": "execute_result",
          "data": {
            "text/plain": [
              "('./data/loans2.txt', <http.client.HTTPMessage at 0x796212f88550>)"
            ]
          },
          "metadata": {},
          "execution_count": 11
        }
      ],
      "source": [
        "urlretrieve(url2, './data/loans2.txt')"
      ]
    },
    {
      "cell_type": "code",
      "execution_count": 12,
      "id": "a2f3469a-e4df-4d60-bad9-a3c5b7345f23",
      "metadata": {
        "id": "a2f3469a-e4df-4d60-bad9-a3c5b7345f23",
        "outputId": "2b0eef8f-3355-4a59-a95c-c2084e6ba7cc",
        "colab": {
          "base_uri": "https://localhost:8080/"
        }
      },
      "outputs": [
        {
          "output_type": "execute_result",
          "data": {
            "text/plain": [
              "('./data/loans3.txt', <http.client.HTTPMessage at 0x796212f88280>)"
            ]
          },
          "metadata": {},
          "execution_count": 12
        }
      ],
      "source": [
        "urlretrieve(url3, './data/loans3.txt')"
      ]
    },
    {
      "cell_type": "code",
      "execution_count": 13,
      "id": "381087d2-6d87-4059-ace9-c051bf4f3e49",
      "metadata": {
        "id": "381087d2-6d87-4059-ace9-c051bf4f3e49",
        "outputId": "7a0986ea-68eb-45a5-e0c8-545155029795",
        "colab": {
          "base_uri": "https://localhost:8080/"
        }
      },
      "outputs": [
        {
          "output_type": "execute_result",
          "data": {
            "text/plain": [
              "['loans3.txt', 'loans1.txt', 'loans2.txt']"
            ]
          },
          "metadata": {},
          "execution_count": 13
        }
      ],
      "source": [
        "os.listdir('./data')"
      ]
    },
    {
      "cell_type": "code",
      "execution_count": 14,
      "id": "b7012885-995a-4bb1-bcfd-3fc4ec1f4a2a",
      "metadata": {
        "id": "b7012885-995a-4bb1-bcfd-3fc4ec1f4a2a"
      },
      "outputs": [],
      "source": [
        "file1 = open('./data/loans1.txt', mode = 'r')"
      ]
    },
    {
      "cell_type": "code",
      "execution_count": 15,
      "id": "a0bcb43f-b214-4eec-bf3c-604a4879c936",
      "metadata": {
        "id": "a0bcb43f-b214-4eec-bf3c-604a4879c936"
      },
      "outputs": [],
      "source": [
        "file_contents = file1.read()"
      ]
    },
    {
      "cell_type": "code",
      "execution_count": 16,
      "id": "1321e08a-383a-40ba-989b-5ad260c4d32c",
      "metadata": {
        "id": "1321e08a-383a-40ba-989b-5ad260c4d32c",
        "outputId": "5ce88663-a8b9-48c2-9434-c4fd1737059e",
        "colab": {
          "base_uri": "https://localhost:8080/",
          "height": 53
        }
      },
      "outputs": [
        {
          "output_type": "execute_result",
          "data": {
            "text/plain": [
              "'amount,duration,rate,down_payment\\n100000,36,0.08,20000\\n200000,12,0.1,\\n628400,120,0.12,100000\\n4637400,240,0.06,\\n42900,90,0.07,8900\\n916000,16,0.13,\\n45230,48,0.08,4300\\n991360,99,0.08,\\n423000,27,0.09,47200'"
            ],
            "application/vnd.google.colaboratory.intrinsic+json": {
              "type": "string"
            }
          },
          "metadata": {},
          "execution_count": 16
        }
      ],
      "source": [
        "file_contents"
      ]
    },
    {
      "cell_type": "code",
      "execution_count": 17,
      "id": "203fb343-0ad3-49e1-91c5-1e8c644e0f50",
      "metadata": {
        "id": "203fb343-0ad3-49e1-91c5-1e8c644e0f50",
        "outputId": "1de5cee9-0635-4665-ce85-8afe473e8ba4",
        "colab": {
          "base_uri": "https://localhost:8080/"
        }
      },
      "outputs": [
        {
          "output_type": "stream",
          "name": "stdout",
          "text": [
            "amount,duration,rate,down_payment\n",
            "100000,36,0.08,20000\n",
            "200000,12,0.1,\n",
            "628400,120,0.12,100000\n",
            "4637400,240,0.06,\n",
            "42900,90,0.07,8900\n",
            "916000,16,0.13,\n",
            "45230,48,0.08,4300\n",
            "991360,99,0.08,\n",
            "423000,27,0.09,47200\n"
          ]
        }
      ],
      "source": [
        "print(file_contents)"
      ]
    },
    {
      "cell_type": "code",
      "execution_count": 18,
      "id": "2ab4933c-35b2-4eee-8d7c-33f566e35377",
      "metadata": {
        "id": "2ab4933c-35b2-4eee-8d7c-33f566e35377"
      },
      "outputs": [],
      "source": [
        "file1.close()"
      ]
    },
    {
      "cell_type": "code",
      "execution_count": 19,
      "id": "09617baf-55cd-4d03-9cfc-8f777c4e5081",
      "metadata": {
        "id": "09617baf-55cd-4d03-9cfc-8f777c4e5081",
        "outputId": "61315a48-9d83-404b-e806-095374aea1aa",
        "colab": {
          "base_uri": "https://localhost:8080/"
        }
      },
      "outputs": [
        {
          "output_type": "stream",
          "name": "stdout",
          "text": [
            "amount,duration,rate,down_payment\n",
            "828400,120,0.11,100000\n",
            "4633400,240,0.06,\n",
            "42900,90,0.08,8900\n",
            "983000,16,0.14,\n",
            "15230,48,0.07,4300\n"
          ]
        }
      ],
      "source": [
        "with open('./data/loans2.txt', 'r') as file2:\n",
        "    file2_contents = file2.read()\n",
        "    print(file2_contents)"
      ]
    },
    {
      "cell_type": "code",
      "execution_count": 21,
      "id": "b3f0bd2d-5262-42ef-add7-e54f522996a8",
      "metadata": {
        "id": "b3f0bd2d-5262-42ef-add7-e54f522996a8"
      },
      "outputs": [],
      "source": [
        "with open('./data/loans3.txt','r') as file3:\n",
        "    file3_lines = file3.readlines()"
      ]
    },
    {
      "cell_type": "code",
      "execution_count": 22,
      "id": "0af36b7b-f950-4f00-99d8-830e1eeabcca",
      "metadata": {
        "id": "0af36b7b-f950-4f00-99d8-830e1eeabcca",
        "outputId": "7650e519-869e-4523-e7c4-cbb193b9b075",
        "colab": {
          "base_uri": "https://localhost:8080/"
        }
      },
      "outputs": [
        {
          "output_type": "execute_result",
          "data": {
            "text/plain": [
              "['amount,duration,rate,down_payment\\n',\n",
              " '45230,48,0.07,4300\\n',\n",
              " '883000,16,0.14,\\n',\n",
              " '100000,12,0.1,\\n',\n",
              " '728400,120,0.12,100000\\n',\n",
              " '3637400,240,0.06,\\n',\n",
              " '82900,90,0.07,8900\\n',\n",
              " '316000,16,0.13,\\n',\n",
              " '15230,48,0.08,4300\\n',\n",
              " '991360,99,0.08,\\n',\n",
              " '323000,27,0.09,4720010000,36,0.08,20000\\n',\n",
              " '528400,120,0.11,100000\\n',\n",
              " '8633400,240,0.06,\\n',\n",
              " '12900,90,0.08,8900']"
            ]
          },
          "metadata": {},
          "execution_count": 22
        }
      ],
      "source": [
        "file3_lines"
      ]
    },
    {
      "cell_type": "code",
      "execution_count": 23,
      "id": "e0f8cc2e-b407-449a-951d-b35c24f46713",
      "metadata": {
        "id": "e0f8cc2e-b407-449a-951d-b35c24f46713",
        "outputId": "986eb8fb-d8e5-4c70-eb6c-cfcc8e5ad76d",
        "colab": {
          "base_uri": "https://localhost:8080/",
          "height": 36
        }
      },
      "outputs": [
        {
          "output_type": "execute_result",
          "data": {
            "text/plain": [
              "'amount,duration,rate,down_payment'"
            ],
            "application/vnd.google.colaboratory.intrinsic+json": {
              "type": "string"
            }
          },
          "metadata": {},
          "execution_count": 23
        }
      ],
      "source": [
        "file3_lines[0].strip()"
      ]
    },
    {
      "cell_type": "code",
      "execution_count": 24,
      "id": "64c644f1-1190-4120-beb5-7d44e2709e4f",
      "metadata": {
        "id": "64c644f1-1190-4120-beb5-7d44e2709e4f",
        "outputId": "5d99bef6-e9b4-416e-b5f1-f20f3ea72b89",
        "colab": {
          "base_uri": "https://localhost:8080/"
        }
      },
      "outputs": [
        {
          "output_type": "execute_result",
          "data": {
            "text/plain": [
              "['828400', '120', '0.11', '100000']"
            ]
          },
          "metadata": {},
          "execution_count": 24
        }
      ],
      "source": [
        "'828400,120,0.11,100000'.split(',')"
      ]
    },
    {
      "cell_type": "code",
      "execution_count": 25,
      "id": "1b6b5dc6-edb3-4fcb-922b-15bb2c3b5827",
      "metadata": {
        "id": "1b6b5dc6-edb3-4fcb-922b-15bb2c3b5827"
      },
      "outputs": [],
      "source": [
        "loans= {\n",
        "    'amount': 828400,\n",
        "    'duration': 120,\n",
        "    'rate': 0.11,\n",
        "    'down_payment': 100000\n",
        "}"
      ]
    },
    {
      "cell_type": "code",
      "execution_count": 26,
      "id": "18e6f234-d38f-460e-b923-cf415b441e4d",
      "metadata": {
        "id": "18e6f234-d38f-460e-b923-cf415b441e4d",
        "outputId": "63fbac75-b5f2-4f08-94bd-89f64c2630b7",
        "colab": {
          "base_uri": "https://localhost:8080/"
        }
      },
      "outputs": [
        {
          "output_type": "execute_result",
          "data": {
            "text/plain": [
              "{'amount': 828400, 'duration': 120, 'rate': 0.11, 'down_payment': 100000}"
            ]
          },
          "metadata": {},
          "execution_count": 26
        }
      ],
      "source": [
        "loans"
      ]
    },
    {
      "cell_type": "code",
      "execution_count": 27,
      "id": "b1b34be8-18b7-4b36-95d3-ba81746fc563",
      "metadata": {
        "id": "b1b34be8-18b7-4b36-95d3-ba81746fc563"
      },
      "outputs": [],
      "source": [
        "with open('./data/loans3.txt','r') as file3:\n",
        "    file3_lines = file3.readlines()"
      ]
    },
    {
      "cell_type": "code",
      "execution_count": 28,
      "id": "f80b7f82-e8c2-4128-ab29-93877fba702d",
      "metadata": {
        "id": "f80b7f82-e8c2-4128-ab29-93877fba702d"
      },
      "outputs": [],
      "source": [
        "def parse_headers(header_line):\n",
        "    return header_line.strip().split(',')"
      ]
    },
    {
      "cell_type": "code",
      "execution_count": 29,
      "id": "2e068aa7-1b07-4218-a713-bcc56bd7be61",
      "metadata": {
        "id": "2e068aa7-1b07-4218-a713-bcc56bd7be61",
        "outputId": "06e48e9a-3a60-433c-efc3-a026174075f0",
        "colab": {
          "base_uri": "https://localhost:8080/",
          "height": 36
        }
      },
      "outputs": [
        {
          "output_type": "execute_result",
          "data": {
            "text/plain": [
              "'amount,duration,rate,down_payment\\n'"
            ],
            "application/vnd.google.colaboratory.intrinsic+json": {
              "type": "string"
            }
          },
          "metadata": {},
          "execution_count": 29
        }
      ],
      "source": [
        "file3_lines[0]"
      ]
    },
    {
      "cell_type": "code",
      "execution_count": 30,
      "id": "4f2f8ac8-0b21-488d-ad3f-54d1042826a2",
      "metadata": {
        "id": "4f2f8ac8-0b21-488d-ad3f-54d1042826a2"
      },
      "outputs": [],
      "source": [
        "headers = parse_headers(file3_lines[0])"
      ]
    },
    {
      "cell_type": "code",
      "execution_count": 31,
      "id": "3b946192-c638-4ec3-b8f8-293555ddd6a7",
      "metadata": {
        "id": "3b946192-c638-4ec3-b8f8-293555ddd6a7",
        "outputId": "511a2448-0c9e-48af-a6df-c52083d453d9",
        "colab": {
          "base_uri": "https://localhost:8080/"
        }
      },
      "outputs": [
        {
          "output_type": "execute_result",
          "data": {
            "text/plain": [
              "['amount', 'duration', 'rate', 'down_payment']"
            ]
          },
          "metadata": {},
          "execution_count": 31
        }
      ],
      "source": [
        "headers"
      ]
    },
    {
      "cell_type": "code",
      "execution_count": 32,
      "id": "b400ab2a-d5c5-4d9a-9a41-25f2853dbfbe",
      "metadata": {
        "id": "b400ab2a-d5c5-4d9a-9a41-25f2853dbfbe"
      },
      "outputs": [],
      "source": [
        "def parse_values(data_line):\n",
        "    values = []\n",
        "    for item in data_line.strip().split(','):\n",
        "        if item == '':\n",
        "            values.append(0.0)\n",
        "        else:\n",
        "            values.append(float(item))\n",
        "    return values"
      ]
    },
    {
      "cell_type": "code",
      "execution_count": 33,
      "id": "d5808766-3dbc-4afb-812a-71e7c5ec6d3c",
      "metadata": {
        "id": "d5808766-3dbc-4afb-812a-71e7c5ec6d3c",
        "outputId": "4bbc14ee-909e-443b-83ec-1f1bbdb44f5f",
        "colab": {
          "base_uri": "https://localhost:8080/",
          "height": 36
        }
      },
      "outputs": [
        {
          "output_type": "execute_result",
          "data": {
            "text/plain": [
              "'883000,16,0.14,\\n'"
            ],
            "application/vnd.google.colaboratory.intrinsic+json": {
              "type": "string"
            }
          },
          "metadata": {},
          "execution_count": 33
        }
      ],
      "source": [
        "file3_lines[2]"
      ]
    },
    {
      "cell_type": "code",
      "execution_count": 34,
      "id": "fa2ef8eb-9f3f-47b8-a232-75b8fce0d312",
      "metadata": {
        "id": "fa2ef8eb-9f3f-47b8-a232-75b8fce0d312",
        "outputId": "8b797260-3cf4-4b46-e03e-92b3b33e182d",
        "colab": {
          "base_uri": "https://localhost:8080/"
        }
      },
      "outputs": [
        {
          "output_type": "execute_result",
          "data": {
            "text/plain": [
              "['883000', '16', '0.14', '']"
            ]
          },
          "metadata": {},
          "execution_count": 34
        }
      ],
      "source": [
        "file3_lines[2].strip().split(',')"
      ]
    },
    {
      "cell_type": "code",
      "execution_count": 35,
      "id": "6f2ac968-424f-48f8-9bd3-4933f0542abc",
      "metadata": {
        "id": "6f2ac968-424f-48f8-9bd3-4933f0542abc",
        "outputId": "7c0cff3a-de27-4a4f-9ed7-7a73127f4a2c",
        "colab": {
          "base_uri": "https://localhost:8080/"
        }
      },
      "outputs": [
        {
          "output_type": "execute_result",
          "data": {
            "text/plain": [
              "[883000.0, 16.0, 0.14, 0.0]"
            ]
          },
          "metadata": {},
          "execution_count": 35
        }
      ],
      "source": [
        "parse_values(file3_lines[2])"
      ]
    },
    {
      "cell_type": "code",
      "execution_count": 36,
      "id": "531ac0fd-a27a-4256-a362-547a65d86a49",
      "metadata": {
        "id": "531ac0fd-a27a-4256-a362-547a65d86a49"
      },
      "outputs": [],
      "source": [
        "def create_item_dict(values,headers):\n",
        "    result = {}\n",
        "    for value, header in zip(values, headers):\n",
        "        result[header] = value\n",
        "    return result"
      ]
    },
    {
      "cell_type": "code",
      "execution_count": 37,
      "id": "64c13ec1-31f3-4399-83fa-f86f208dd4f6",
      "metadata": {
        "id": "64c13ec1-31f3-4399-83fa-f86f208dd4f6",
        "outputId": "f082909f-662b-4f7b-c09b-2eb8f6329b79",
        "colab": {
          "base_uri": "https://localhost:8080/"
        }
      },
      "outputs": [
        {
          "output_type": "stream",
          "name": "stdout",
          "text": [
            "(1, 'a')\n",
            "(2, 'b')\n",
            "(3, 'c')\n"
          ]
        }
      ],
      "source": [
        "for item in zip([1,2,3],['a','b','c']):\n",
        "    print(item)"
      ]
    },
    {
      "cell_type": "code",
      "execution_count": 38,
      "id": "7334546a-cfd6-4229-9ef2-0790e4023809",
      "metadata": {
        "id": "7334546a-cfd6-4229-9ef2-0790e4023809",
        "outputId": "a8a9014e-d9d5-45df-8c64-75fa46dabea3",
        "colab": {
          "base_uri": "https://localhost:8080/",
          "height": 36
        }
      },
      "outputs": [
        {
          "output_type": "execute_result",
          "data": {
            "text/plain": [
              "'883000,16,0.14,\\n'"
            ],
            "application/vnd.google.colaboratory.intrinsic+json": {
              "type": "string"
            }
          },
          "metadata": {},
          "execution_count": 38
        }
      ],
      "source": [
        "file3_lines[2]"
      ]
    },
    {
      "cell_type": "code",
      "execution_count": 39,
      "id": "6b2ecdcc-fec7-4b72-9529-2aaf64fc8569",
      "metadata": {
        "id": "6b2ecdcc-fec7-4b72-9529-2aaf64fc8569"
      },
      "outputs": [],
      "source": [
        "values1 = parse_values(file3_lines[2])"
      ]
    },
    {
      "cell_type": "code",
      "execution_count": 40,
      "id": "73a6279b-e1cd-459b-906a-1c0ef1114254",
      "metadata": {
        "id": "73a6279b-e1cd-459b-906a-1c0ef1114254",
        "outputId": "2f1f8deb-3f46-4033-f376-f87154456bde",
        "colab": {
          "base_uri": "https://localhost:8080/"
        }
      },
      "outputs": [
        {
          "output_type": "execute_result",
          "data": {
            "text/plain": [
              "[883000.0, 16.0, 0.14, 0.0]"
            ]
          },
          "metadata": {},
          "execution_count": 40
        }
      ],
      "source": [
        "values1"
      ]
    },
    {
      "cell_type": "code",
      "execution_count": 41,
      "id": "9b2a9354-030c-4a6c-b130-2704bf337a4b",
      "metadata": {
        "id": "9b2a9354-030c-4a6c-b130-2704bf337a4b",
        "outputId": "c0c6823c-1d47-46fb-ba5c-dc7ee30c0fd7",
        "colab": {
          "base_uri": "https://localhost:8080/"
        }
      },
      "outputs": [
        {
          "output_type": "execute_result",
          "data": {
            "text/plain": [
              "['amount', 'duration', 'rate', 'down_payment']"
            ]
          },
          "metadata": {},
          "execution_count": 41
        }
      ],
      "source": [
        "headers"
      ]
    },
    {
      "cell_type": "code",
      "execution_count": 42,
      "id": "515a2772-aed3-4262-aabe-694ca5504f07",
      "metadata": {
        "id": "515a2772-aed3-4262-aabe-694ca5504f07",
        "outputId": "cabacd26-e058-446b-a246-db2fba221e03",
        "colab": {
          "base_uri": "https://localhost:8080/"
        }
      },
      "outputs": [
        {
          "output_type": "execute_result",
          "data": {
            "text/plain": [
              "{'amount': 883000.0, 'duration': 16.0, 'rate': 0.14, 'down_payment': 0.0}"
            ]
          },
          "metadata": {},
          "execution_count": 42
        }
      ],
      "source": [
        "create_item_dict(values1, headers)"
      ]
    },
    {
      "cell_type": "code",
      "execution_count": 43,
      "id": "54be5e32-2af1-48e6-927d-c060ae2a5d0f",
      "metadata": {
        "id": "54be5e32-2af1-48e6-927d-c060ae2a5d0f"
      },
      "outputs": [],
      "source": [
        "def read_csv(path):\n",
        "    result = []\n",
        "    with open(path, 'r') as f:\n",
        "        lines = f.readlines()\n",
        "        headers = parse_headers(lines[0])\n",
        "        for data_line in lines[1:]:\n",
        "            values = parse_values(data_line)\n",
        "            item_dict = create_item_dict(values, headers)\n",
        "            result.append(item_dict)\n",
        "        return result"
      ]
    },
    {
      "cell_type": "code",
      "execution_count": 44,
      "id": "91e122c7-a610-42c2-a9e2-87b5af25bc19",
      "metadata": {
        "id": "91e122c7-a610-42c2-a9e2-87b5af25bc19",
        "outputId": "82940837-a8b2-4215-c31a-d119055ce8d7",
        "colab": {
          "base_uri": "https://localhost:8080/"
        }
      },
      "outputs": [
        {
          "output_type": "stream",
          "name": "stdout",
          "text": [
            "amount,duration,rate,down_payment\n",
            "828400,120,0.11,100000\n",
            "4633400,240,0.06,\n",
            "42900,90,0.08,8900\n",
            "983000,16,0.14,\n",
            "15230,48,0.07,4300\n"
          ]
        }
      ],
      "source": [
        "with open('./data/loans2.txt', 'r') as file2:\n",
        "    print(file2.read())"
      ]
    },
    {
      "cell_type": "code",
      "execution_count": 45,
      "id": "7c1cfe92-6366-47a4-8de3-080528bd0649",
      "metadata": {
        "id": "7c1cfe92-6366-47a4-8de3-080528bd0649",
        "outputId": "443f0a1a-8a67-4db4-c160-48e1fa6099d7",
        "colab": {
          "base_uri": "https://localhost:8080/"
        }
      },
      "outputs": [
        {
          "output_type": "execute_result",
          "data": {
            "text/plain": [
              "[{'amount': 828400.0,\n",
              "  'duration': 120.0,\n",
              "  'rate': 0.11,\n",
              "  'down_payment': 100000.0},\n",
              " {'amount': 4633400.0, 'duration': 240.0, 'rate': 0.06, 'down_payment': 0.0},\n",
              " {'amount': 42900.0, 'duration': 90.0, 'rate': 0.08, 'down_payment': 8900.0},\n",
              " {'amount': 983000.0, 'duration': 16.0, 'rate': 0.14, 'down_payment': 0.0},\n",
              " {'amount': 15230.0, 'duration': 48.0, 'rate': 0.07, 'down_payment': 4300.0}]"
            ]
          },
          "metadata": {},
          "execution_count": 45
        }
      ],
      "source": [
        "read_csv('./data/loans2.txt')"
      ]
    },
    {
      "cell_type": "code",
      "execution_count": 46,
      "id": "7501a0d9-8fac-4e3f-8450-15ef00df0bf7",
      "metadata": {
        "id": "7501a0d9-8fac-4e3f-8450-15ef00df0bf7"
      },
      "outputs": [],
      "source": [
        "def parse_headers(header_line):\n",
        "    return header_line.strip().split(',')\n",
        "\n",
        "def parse_values(data_line):\n",
        "    values = []\n",
        "    for item in data_line.strip().split(','):\n",
        "        if item == '':\n",
        "            values.append(0.0)\n",
        "        else:\n",
        "            values.append(float(item))\n",
        "    return values\n",
        "\n",
        "def create_item_dict(values,headers):\n",
        "    result = {}\n",
        "    for value, header in zip(values, headers):\n",
        "        result[header] = value\n",
        "    return result\n",
        "\n",
        "def read_csv(path):\n",
        "    result = []\n",
        "    with open(path, 'r') as f:\n",
        "        lines = f.readlines()\n",
        "        headers = parse_headers(lines[0])\n",
        "        for data_line in lines[1:]:\n",
        "            values = parse_values(data_line)\n",
        "            item_dict = create_item_dict(values, headers)\n",
        "            result.append(item_dict)\n",
        "        return result"
      ]
    },
    {
      "cell_type": "code",
      "execution_count": 47,
      "id": "31f5e781-4d4a-4a6f-ab90-bdc289752262",
      "metadata": {
        "id": "31f5e781-4d4a-4a6f-ab90-bdc289752262",
        "outputId": "ece4f071-135b-45ba-b0d5-c7f090c5c525",
        "colab": {
          "base_uri": "https://localhost:8080/"
        }
      },
      "outputs": [
        {
          "output_type": "stream",
          "name": "stdout",
          "text": [
            "amount,duration,rate,down_payment\n",
            "100000,36,0.08,20000\n",
            "200000,12,0.1,\n",
            "628400,120,0.12,100000\n",
            "4637400,240,0.06,\n",
            "42900,90,0.07,8900\n",
            "916000,16,0.13,\n",
            "45230,48,0.08,4300\n",
            "991360,99,0.08,\n",
            "423000,27,0.09,47200\n"
          ]
        }
      ],
      "source": [
        "with open('./data/loans1.txt', 'r') as file1:\n",
        "    file1_contents = file1.read()\n",
        "    print(file1_contents)"
      ]
    },
    {
      "cell_type": "code",
      "execution_count": 48,
      "id": "abcbfcd5-bd30-4913-b9b2-ae29c79d09a5",
      "metadata": {
        "id": "abcbfcd5-bd30-4913-b9b2-ae29c79d09a5",
        "outputId": "5c2e8211-85c5-4b31-d459-619a22493bd2",
        "colab": {
          "base_uri": "https://localhost:8080/"
        }
      },
      "outputs": [
        {
          "output_type": "execute_result",
          "data": {
            "text/plain": [
              "[{'amount': 100000.0, 'duration': 36.0, 'rate': 0.08, 'down_payment': 20000.0},\n",
              " {'amount': 200000.0, 'duration': 12.0, 'rate': 0.1, 'down_payment': 0.0},\n",
              " {'amount': 628400.0,\n",
              "  'duration': 120.0,\n",
              "  'rate': 0.12,\n",
              "  'down_payment': 100000.0},\n",
              " {'amount': 4637400.0, 'duration': 240.0, 'rate': 0.06, 'down_payment': 0.0},\n",
              " {'amount': 42900.0, 'duration': 90.0, 'rate': 0.07, 'down_payment': 8900.0},\n",
              " {'amount': 916000.0, 'duration': 16.0, 'rate': 0.13, 'down_payment': 0.0},\n",
              " {'amount': 45230.0, 'duration': 48.0, 'rate': 0.08, 'down_payment': 4300.0},\n",
              " {'amount': 991360.0, 'duration': 99.0, 'rate': 0.08, 'down_payment': 0.0},\n",
              " {'amount': 423000.0, 'duration': 27.0, 'rate': 0.09, 'down_payment': 47200.0}]"
            ]
          },
          "metadata": {},
          "execution_count": 48
        }
      ],
      "source": [
        "read_csv('./data/loans1.txt')"
      ]
    },
    {
      "cell_type": "code",
      "execution_count": 49,
      "id": "5a579175-cdc5-48d4-8085-db58ab7bd1ff",
      "metadata": {
        "id": "5a579175-cdc5-48d4-8085-db58ab7bd1ff"
      },
      "outputs": [],
      "source": [
        "import math\n",
        "\n",
        "def loan_emi(amount, duration, rate, down_payment=0):\n",
        "    loan_amount = amount - down_payment\n",
        "    try:\n",
        "        emi = loan_amount * rate * ((1+rate)**duration) / (((1+rate)**duration)-1)\n",
        "    except ZeroDivisionError:\n",
        "        emi = loan_amount / duration\n",
        "    emi = math.ceil(emi)\n",
        "    return emi"
      ]
    },
    {
      "cell_type": "code",
      "execution_count": 50,
      "id": "779a8578-3b57-4cc8-a3ec-503107df123a",
      "metadata": {
        "id": "779a8578-3b57-4cc8-a3ec-503107df123a"
      },
      "outputs": [],
      "source": [
        "loans2 = read_csv('./data/loans2.txt')"
      ]
    },
    {
      "cell_type": "code",
      "execution_count": 51,
      "id": "2675d0c5-9b20-457f-bbac-a526878d72be",
      "metadata": {
        "id": "2675d0c5-9b20-457f-bbac-a526878d72be",
        "outputId": "ae297d73-4449-4b8f-96e6-c91477c80bd2",
        "colab": {
          "base_uri": "https://localhost:8080/"
        }
      },
      "outputs": [
        {
          "output_type": "execute_result",
          "data": {
            "text/plain": [
              "[{'amount': 828400.0,\n",
              "  'duration': 120.0,\n",
              "  'rate': 0.11,\n",
              "  'down_payment': 100000.0},\n",
              " {'amount': 4633400.0, 'duration': 240.0, 'rate': 0.06, 'down_payment': 0.0},\n",
              " {'amount': 42900.0, 'duration': 90.0, 'rate': 0.08, 'down_payment': 8900.0},\n",
              " {'amount': 983000.0, 'duration': 16.0, 'rate': 0.14, 'down_payment': 0.0},\n",
              " {'amount': 15230.0, 'duration': 48.0, 'rate': 0.07, 'down_payment': 4300.0}]"
            ]
          },
          "metadata": {},
          "execution_count": 51
        }
      ],
      "source": [
        "loans2"
      ]
    },
    {
      "cell_type": "code",
      "execution_count": 52,
      "id": "9e679feb-3347-4aca-8b77-9bc555563b4a",
      "metadata": {
        "id": "9e679feb-3347-4aca-8b77-9bc555563b4a"
      },
      "outputs": [],
      "source": [
        "for loan in loans2:\n",
        "    loan['emi'] = loan_emi(loan['amount'],\n",
        "                           loan['duration'],\n",
        "                           loan['rate']/12, # the CSV contains yearly rates\n",
        "                           loan['down_payment'])"
      ]
    },
    {
      "cell_type": "code",
      "execution_count": 53,
      "id": "874ba110-49e6-4202-83a8-92314464bd08",
      "metadata": {
        "id": "874ba110-49e6-4202-83a8-92314464bd08",
        "outputId": "dd707f4f-fd19-4d84-a44e-ac53df7dd58c",
        "colab": {
          "base_uri": "https://localhost:8080/"
        }
      },
      "outputs": [
        {
          "output_type": "execute_result",
          "data": {
            "text/plain": [
              "[{'amount': 828400.0,\n",
              "  'duration': 120.0,\n",
              "  'rate': 0.11,\n",
              "  'down_payment': 100000.0,\n",
              "  'emi': 10034},\n",
              " {'amount': 4633400.0,\n",
              "  'duration': 240.0,\n",
              "  'rate': 0.06,\n",
              "  'down_payment': 0.0,\n",
              "  'emi': 33196},\n",
              " {'amount': 42900.0,\n",
              "  'duration': 90.0,\n",
              "  'rate': 0.08,\n",
              "  'down_payment': 8900.0,\n",
              "  'emi': 504},\n",
              " {'amount': 983000.0,\n",
              "  'duration': 16.0,\n",
              "  'rate': 0.14,\n",
              "  'down_payment': 0.0,\n",
              "  'emi': 67707},\n",
              " {'amount': 15230.0,\n",
              "  'duration': 48.0,\n",
              "  'rate': 0.07,\n",
              "  'down_payment': 4300.0,\n",
              "  'emi': 262}]"
            ]
          },
          "metadata": {},
          "execution_count": 53
        }
      ],
      "source": [
        "loans2"
      ]
    },
    {
      "cell_type": "code",
      "execution_count": 54,
      "id": "769c9b18-d8e6-4b2b-92d9-79ef55241f89",
      "metadata": {
        "id": "769c9b18-d8e6-4b2b-92d9-79ef55241f89"
      },
      "outputs": [],
      "source": [
        "def compute_emis(loans):\n",
        "    for loan in loans:\n",
        "        loan['emi'] = loan_emi(loan['amount'],\n",
        "                           loan['duration'],\n",
        "                           loan['rate']/12, # the CSV contains yearly rates\n",
        "                           loan['down_payment'])"
      ]
    },
    {
      "cell_type": "code",
      "execution_count": 55,
      "id": "594899ee-0ef1-480e-96e3-bf0d4ccfeab3",
      "metadata": {
        "id": "594899ee-0ef1-480e-96e3-bf0d4ccfeab3"
      },
      "outputs": [],
      "source": [
        "loans2 = read_csv('./data/loans2.txt')"
      ]
    },
    {
      "cell_type": "code",
      "execution_count": 56,
      "id": "5918acc3-c0b1-4ee7-8c66-6473d54542c4",
      "metadata": {
        "id": "5918acc3-c0b1-4ee7-8c66-6473d54542c4"
      },
      "outputs": [],
      "source": [
        "compute_emis(loans2)"
      ]
    },
    {
      "cell_type": "code",
      "execution_count": 57,
      "id": "2569b076-8e16-45d1-98bf-6595ed1eb778",
      "metadata": {
        "id": "2569b076-8e16-45d1-98bf-6595ed1eb778",
        "outputId": "cfa37ccc-ab10-43b8-a914-31866fe850d1",
        "colab": {
          "base_uri": "https://localhost:8080/"
        }
      },
      "outputs": [
        {
          "output_type": "execute_result",
          "data": {
            "text/plain": [
              "[{'amount': 828400.0,\n",
              "  'duration': 120.0,\n",
              "  'rate': 0.11,\n",
              "  'down_payment': 100000.0,\n",
              "  'emi': 10034},\n",
              " {'amount': 4633400.0,\n",
              "  'duration': 240.0,\n",
              "  'rate': 0.06,\n",
              "  'down_payment': 0.0,\n",
              "  'emi': 33196},\n",
              " {'amount': 42900.0,\n",
              "  'duration': 90.0,\n",
              "  'rate': 0.08,\n",
              "  'down_payment': 8900.0,\n",
              "  'emi': 504},\n",
              " {'amount': 983000.0,\n",
              "  'duration': 16.0,\n",
              "  'rate': 0.14,\n",
              "  'down_payment': 0.0,\n",
              "  'emi': 67707},\n",
              " {'amount': 15230.0,\n",
              "  'duration': 48.0,\n",
              "  'rate': 0.07,\n",
              "  'down_payment': 4300.0,\n",
              "  'emi': 262}]"
            ]
          },
          "metadata": {},
          "execution_count": 57
        }
      ],
      "source": [
        "loans2"
      ]
    },
    {
      "cell_type": "code",
      "execution_count": 58,
      "id": "53dc2fe2-5d25-4e61-aeae-264afe93026b",
      "metadata": {
        "id": "53dc2fe2-5d25-4e61-aeae-264afe93026b"
      },
      "outputs": [],
      "source": [
        "with open('./data/emis2.txt','w') as f:\n",
        "    for loan in loans2:\n",
        "        f.write('{},{},{},{},{}\\n'.format(\n",
        "            loan['amount'],\n",
        "                           loan['duration'],\n",
        "                           loan['rate']/12,\n",
        "                           loan['down_payment'],\n",
        "                           loan['emi']))"
      ]
    },
    {
      "cell_type": "code",
      "execution_count": 59,
      "id": "362bc619-8d3a-4cbd-ad7c-cedc30676606",
      "metadata": {
        "id": "362bc619-8d3a-4cbd-ad7c-cedc30676606",
        "outputId": "f7334287-fbb8-40d6-8ab4-4cde4ac99c28",
        "colab": {
          "base_uri": "https://localhost:8080/"
        }
      },
      "outputs": [
        {
          "output_type": "execute_result",
          "data": {
            "text/plain": [
              "['loans3.txt', 'emis2.txt', 'loans1.txt', 'loans2.txt']"
            ]
          },
          "metadata": {},
          "execution_count": 59
        }
      ],
      "source": [
        "os.listdir('data')"
      ]
    },
    {
      "cell_type": "code",
      "execution_count": 60,
      "id": "260cfcb8-e3fe-405a-8c84-d73d0e376c27",
      "metadata": {
        "id": "260cfcb8-e3fe-405a-8c84-d73d0e376c27",
        "outputId": "ab610ea4-ec21-4513-8c09-d268d1bd5afc",
        "colab": {
          "base_uri": "https://localhost:8080/"
        }
      },
      "outputs": [
        {
          "output_type": "stream",
          "name": "stdout",
          "text": [
            "828400.0,120.0,0.009166666666666667,100000.0,10034\n",
            "4633400.0,240.0,0.005,0.0,33196\n",
            "42900.0,90.0,0.006666666666666667,8900.0,504\n",
            "983000.0,16.0,0.011666666666666667,0.0,67707\n",
            "15230.0,48.0,0.005833333333333334,4300.0,262\n",
            "\n"
          ]
        }
      ],
      "source": [
        "with open('./data/emis2.txt', 'r') as f:\n",
        "    print(f.read())"
      ]
    },
    {
      "cell_type": "code",
      "execution_count": 61,
      "id": "e0885ac2-40c7-43a4-9e5c-454e8595c680",
      "metadata": {
        "id": "e0885ac2-40c7-43a4-9e5c-454e8595c680"
      },
      "outputs": [],
      "source": [
        "def write_csv(items, path):\n",
        "    with open(path, 'w') as f:\n",
        "        if len(items) == 0:\n",
        "            return\n",
        "        headers = list(items[0].keys())\n",
        "        f.write(','.join(headers) + '\\n')\n",
        "\n",
        "        for item in items:\n",
        "            values = []\n",
        "            for header in headers:\n",
        "                values.append(str(item.get(header,\"\")))\n",
        "            f.write(','.join(values) +\"\\n\")"
      ]
    },
    {
      "cell_type": "code",
      "execution_count": 62,
      "id": "4f20e635-7b46-428a-908d-da4bb94f27b2",
      "metadata": {
        "id": "4f20e635-7b46-428a-908d-da4bb94f27b2"
      },
      "outputs": [],
      "source": [
        "loans3 = read_csv('./data/loans3.txt')"
      ]
    },
    {
      "cell_type": "code",
      "execution_count": 63,
      "id": "6c3a1351-9918-4fbd-8fcd-bf80930e44b7",
      "metadata": {
        "id": "6c3a1351-9918-4fbd-8fcd-bf80930e44b7"
      },
      "outputs": [],
      "source": [
        "compute_emis(loans3)"
      ]
    },
    {
      "cell_type": "code",
      "execution_count": 64,
      "id": "7117f101-2359-43f0-9f07-49bc216f9ca1",
      "metadata": {
        "id": "7117f101-2359-43f0-9f07-49bc216f9ca1"
      },
      "outputs": [],
      "source": [
        "write_csv(loans3, './data/emis3.txt')"
      ]
    },
    {
      "cell_type": "code",
      "execution_count": 65,
      "id": "43274277-0fbe-45df-8279-c4b112d48551",
      "metadata": {
        "id": "43274277-0fbe-45df-8279-c4b112d48551",
        "outputId": "01c0cd2d-0c1a-426c-d8a7-2a256cb9386e",
        "colab": {
          "base_uri": "https://localhost:8080/"
        }
      },
      "outputs": [
        {
          "output_type": "stream",
          "name": "stdout",
          "text": [
            "amount,duration,rate,down_payment,emi\n",
            "45230.0,48.0,0.07,4300.0,981\n",
            "883000.0,16.0,0.14,0.0,60819\n",
            "100000.0,12.0,0.1,0.0,8792\n",
            "728400.0,120.0,0.12,100000.0,9016\n",
            "3637400.0,240.0,0.06,0.0,26060\n",
            "82900.0,90.0,0.07,8900.0,1060\n",
            "316000.0,16.0,0.13,0.0,21618\n",
            "15230.0,48.0,0.08,4300.0,267\n",
            "991360.0,99.0,0.08,0.0,13712\n",
            "323000.0,27.0,0.09,4720010000.0,-193751447\n",
            "528400.0,120.0,0.11,100000.0,5902\n",
            "8633400.0,240.0,0.06,0.0,61853\n",
            "12900.0,90.0,0.08,8900.0,60\n",
            "\n"
          ]
        }
      ],
      "source": [
        "with open ('./data/emis3.txt', 'r') as f:\n",
        "    print(f.read())"
      ]
    },
    {
      "cell_type": "code",
      "execution_count": 66,
      "id": "a25dc757-46b9-47ee-9477-869f096ae5f6",
      "metadata": {
        "id": "a25dc757-46b9-47ee-9477-869f096ae5f6"
      },
      "outputs": [],
      "source": [
        "for i in range(1,4):\n",
        "    loans = read_csv('./data/loans{}.txt'.format(i))\n",
        "    compute_emis(loans)\n",
        "    write_csv(loans, './data/emis{}.txt'.format(i))"
      ]
    },
    {
      "cell_type": "code",
      "execution_count": 67,
      "id": "0569eccb-54e6-40fc-bec9-decb70236290",
      "metadata": {
        "id": "0569eccb-54e6-40fc-bec9-decb70236290",
        "outputId": "2a222f1d-a3e4-4f69-b3a0-2ea9de9be349",
        "colab": {
          "base_uri": "https://localhost:8080/"
        }
      },
      "outputs": [
        {
          "output_type": "execute_result",
          "data": {
            "text/plain": [
              "['loans3.txt',\n",
              " 'emis2.txt',\n",
              " 'loans1.txt',\n",
              " 'emis1.txt',\n",
              " 'emis3.txt',\n",
              " 'loans2.txt']"
            ]
          },
          "metadata": {},
          "execution_count": 67
        }
      ],
      "source": [
        "os.listdir('./data')"
      ]
    },
    {
      "cell_type": "code",
      "execution_count": 68,
      "id": "9de521f9-cd11-43f6-8b13-632530984e4a",
      "metadata": {
        "id": "9de521f9-cd11-43f6-8b13-632530984e4a"
      },
      "outputs": [],
      "source": [
        "import math\n",
        "\n",
        "def loan_emi(amount, duration, rate, down_payment=0):\n",
        "    loan_amount = amount - down_payment\n",
        "    try:\n",
        "        emi = loan_amount * rate * ((1+rate)**duration) / (((1+rate)**duration)-1)\n",
        "    except ZeroDivisionError:\n",
        "        emi = loan_amount / duration\n",
        "    emi = math.ceil(emi)\n",
        "    return emi\n",
        "\n",
        "def compute_emis(loans):\n",
        "    for loan in loans:\n",
        "        loan['emi'] = loan_emi(loan['amount'],\n",
        "                           loan['duration'],\n",
        "                           loan['rate']/12, # the CSV contains yearly rates\n",
        "                           loan['down_payment'])\n",
        "\n",
        "def parse_headers(header_line):\n",
        "    return header_line.strip().split(',')\n",
        "\n",
        "def parse_values(data_line):\n",
        "    values = []\n",
        "    for item in data_line.strip().split(','):\n",
        "        if item == '':\n",
        "            values.append(0.0)\n",
        "        else:\n",
        "            values.append(float(item))\n",
        "    return values\n",
        "\n",
        "def create_item_dict(values,headers):\n",
        "    result = {}\n",
        "    for value, header in zip(values, headers):\n",
        "        result[header] = value\n",
        "    return result\n",
        "\n",
        "def read_csv(path):\n",
        "    result = []\n",
        "    with open(path, 'r') as f:\n",
        "        lines = f.readlines()\n",
        "        headers = parse_headers(lines[0])\n",
        "        for data_line in lines[1:]:\n",
        "            values = parse_values(data_line)\n",
        "            item_dict = create_item_dict(values, headers)\n",
        "            result.append(item_dict)\n",
        "        return result\n",
        "\n",
        "def write_csv(items, path):\n",
        "    with open(path, 'w') as f:\n",
        "        if len(items) == 0:\n",
        "            return\n",
        "        headers = list(items[0].keys())\n",
        "        f.write(','.join(headers) + '\\n')\n",
        "\n",
        "        for item in items:\n",
        "            values = []\n",
        "            for header in headers:\n",
        "                values.append(str(item.get(header,\"\")))\n",
        "            f.write(','.join(values) +\"\\n\")"
      ]
    },
    {
      "cell_type": "code",
      "execution_count": 69,
      "id": "04da1899-9f18-4fed-9a84-e592c7bf9368",
      "metadata": {
        "id": "04da1899-9f18-4fed-9a84-e592c7bf9368"
      },
      "outputs": [],
      "source": [
        "loans3 = read_csv('./data/loans3.txt')"
      ]
    },
    {
      "cell_type": "code",
      "execution_count": 70,
      "id": "50258cad-54c6-4ec5-b646-a274c020ce97",
      "metadata": {
        "id": "50258cad-54c6-4ec5-b646-a274c020ce97"
      },
      "outputs": [],
      "source": [
        "compute_emis(loans3)"
      ]
    },
    {
      "cell_type": "code",
      "execution_count": 71,
      "id": "02eb72d3-39a8-46b7-9fbf-65f7b4d9ac2b",
      "metadata": {
        "id": "02eb72d3-39a8-46b7-9fbf-65f7b4d9ac2b"
      },
      "outputs": [],
      "source": [
        "write_csv(loans3, './data/emis3.txt')"
      ]
    },
    {
      "cell_type": "code",
      "execution_count": 72,
      "id": "5865e410-c97b-4004-9096-8138943f8179",
      "metadata": {
        "id": "5865e410-c97b-4004-9096-8138943f8179",
        "outputId": "09eb9ab9-a40f-4302-ea89-4230ca0accf4",
        "colab": {
          "base_uri": "https://localhost:8080/"
        }
      },
      "outputs": [
        {
          "output_type": "stream",
          "name": "stdout",
          "text": [
            "amount,duration,rate,down_payment,emi\n",
            "45230.0,48.0,0.07,4300.0,981\n",
            "883000.0,16.0,0.14,0.0,60819\n",
            "100000.0,12.0,0.1,0.0,8792\n",
            "728400.0,120.0,0.12,100000.0,9016\n",
            "3637400.0,240.0,0.06,0.0,26060\n",
            "82900.0,90.0,0.07,8900.0,1060\n",
            "316000.0,16.0,0.13,0.0,21618\n",
            "15230.0,48.0,0.08,4300.0,267\n",
            "991360.0,99.0,0.08,0.0,13712\n",
            "323000.0,27.0,0.09,4720010000.0,-193751447\n",
            "528400.0,120.0,0.11,100000.0,5902\n",
            "8633400.0,240.0,0.06,0.0,61853\n",
            "12900.0,90.0,0.08,8900.0,60\n",
            "\n"
          ]
        }
      ],
      "source": [
        "with open ('./data/emis3.txt', 'r') as f:\n",
        "    print(f.read())"
      ]
    }
  ],
  "metadata": {
    "kernelspec": {
      "display_name": "Python 3 (ipykernel)",
      "language": "python",
      "name": "python3"
    },
    "language_info": {
      "codemirror_mode": {
        "name": "ipython",
        "version": 3
      },
      "file_extension": ".py",
      "mimetype": "text/x-python",
      "name": "python",
      "nbconvert_exporter": "python",
      "pygments_lexer": "ipython3",
      "version": "3.8.0"
    },
    "colab": {
      "provenance": []
    }
  },
  "nbformat": 4,
  "nbformat_minor": 5
}