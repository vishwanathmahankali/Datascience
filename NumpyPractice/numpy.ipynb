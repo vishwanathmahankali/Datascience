{
  "cells": [
    {
      "cell_type": "code",
      "execution_count": 1,
      "id": "4f029e7e-b008-48f6-9741-6a9a84e3f32c",
      "metadata": {
        "id": "4f029e7e-b008-48f6-9741-6a9a84e3f32c"
      },
      "outputs": [],
      "source": [
        "import numpy as np"
      ]
    },
    {
      "cell_type": "code",
      "execution_count": 2,
      "id": "14a7693c-004a-4b7f-a608-d4004ad36fe0",
      "metadata": {
        "id": "14a7693c-004a-4b7f-a608-d4004ad36fe0"
      },
      "outputs": [],
      "source": [
        "weights = np.array([1,2,3])"
      ]
    },
    {
      "cell_type": "code",
      "execution_count": 3,
      "id": "427eaea4-f7e8-493a-aed0-34215edbf5b9",
      "metadata": {
        "colab": {
          "base_uri": "https://localhost:8080/"
        },
        "id": "427eaea4-f7e8-493a-aed0-34215edbf5b9",
        "outputId": "42eb3763-4416-4951-fb53-755bbb7edb99"
      },
      "outputs": [
        {
          "output_type": "execute_result",
          "data": {
            "text/plain": [
              "array([1, 2, 3])"
            ]
          },
          "metadata": {},
          "execution_count": 3
        }
      ],
      "source": [
        "weights"
      ]
    },
    {
      "cell_type": "code",
      "execution_count": 4,
      "id": "0466e9cf-b156-481d-85ed-325bb9843877",
      "metadata": {
        "colab": {
          "base_uri": "https://localhost:8080/"
        },
        "id": "0466e9cf-b156-481d-85ed-325bb9843877",
        "outputId": "b92ee334-397b-4ed3-c99d-22cdf7b7e129"
      },
      "outputs": [
        {
          "output_type": "execute_result",
          "data": {
            "text/plain": [
              "array([[0., 0.],\n",
              "       [0., 0.],\n",
              "       [0., 0.]])"
            ]
          },
          "metadata": {},
          "execution_count": 4
        }
      ],
      "source": [
        "np.zeros((3,2))"
      ]
    },
    {
      "cell_type": "code",
      "execution_count": 5,
      "id": "7a00263d-4335-4b2e-a7ee-320daa70d7bc",
      "metadata": {
        "colab": {
          "base_uri": "https://localhost:8080/"
        },
        "id": "7a00263d-4335-4b2e-a7ee-320daa70d7bc",
        "outputId": "039b881c-4772-4fa4-facc-16af137f70ee"
      },
      "outputs": [
        {
          "output_type": "execute_result",
          "data": {
            "text/plain": [
              "array([[[1., 1., 1.],\n",
              "        [1., 1., 1.]],\n",
              "\n",
              "       [[1., 1., 1.],\n",
              "        [1., 1., 1.]]])"
            ]
          },
          "metadata": {},
          "execution_count": 5
        }
      ],
      "source": [
        "np.ones([2,2,3])"
      ]
    },
    {
      "cell_type": "code",
      "execution_count": 6,
      "id": "0ada0e3b-b1d0-48cf-8f03-fb71bba6e9ca",
      "metadata": {
        "colab": {
          "base_uri": "https://localhost:8080/"
        },
        "id": "0ada0e3b-b1d0-48cf-8f03-fb71bba6e9ca",
        "outputId": "fa1f2072-c5b1-4bd3-a907-fc92ea22ba5e"
      },
      "outputs": [
        {
          "output_type": "execute_result",
          "data": {
            "text/plain": [
              "array([[1., 0., 0.],\n",
              "       [0., 1., 0.],\n",
              "       [0., 0., 1.]])"
            ]
          },
          "metadata": {},
          "execution_count": 6
        }
      ],
      "source": [
        "np.eye(3)"
      ]
    },
    {
      "cell_type": "code",
      "execution_count": 7,
      "id": "49051274-1229-4657-b361-8eb42093060f",
      "metadata": {
        "colab": {
          "base_uri": "https://localhost:8080/"
        },
        "id": "49051274-1229-4657-b361-8eb42093060f",
        "outputId": "832f8ba8-a780-4b41-873f-2940671c7636"
      },
      "outputs": [
        {
          "output_type": "execute_result",
          "data": {
            "text/plain": [
              "array([0.47465672, 0.21551513, 0.64782273, 0.21452841, 0.385297  ])"
            ]
          },
          "metadata": {},
          "execution_count": 7
        }
      ],
      "source": [
        "np.random.rand(5)"
      ]
    },
    {
      "cell_type": "code",
      "execution_count": 8,
      "id": "ea387d66-6432-4efb-92f4-b10efa65db86",
      "metadata": {
        "colab": {
          "base_uri": "https://localhost:8080/"
        },
        "id": "ea387d66-6432-4efb-92f4-b10efa65db86",
        "outputId": "7c706072-a32c-4936-9688-ae40d49259cf"
      },
      "outputs": [
        {
          "output_type": "execute_result",
          "data": {
            "text/plain": [
              "array([[-0.66735161,  1.39719556, -0.95388925],\n",
              "       [-1.4471835 , -0.06574722,  0.40263806]])"
            ]
          },
          "metadata": {},
          "execution_count": 8
        }
      ],
      "source": [
        "np.random.randn(2,3)"
      ]
    },
    {
      "cell_type": "code",
      "execution_count": 9,
      "id": "328812fb-cb63-45e5-bd95-02454fd17318",
      "metadata": {
        "colab": {
          "base_uri": "https://localhost:8080/"
        },
        "id": "328812fb-cb63-45e5-bd95-02454fd17318",
        "outputId": "e70245aa-b8ff-4cf3-90f6-b806f8d8a382"
      },
      "outputs": [
        {
          "output_type": "execute_result",
          "data": {
            "text/plain": [
              "array([[42, 42, 42],\n",
              "       [42, 42, 42]])"
            ]
          },
          "metadata": {},
          "execution_count": 9
        }
      ],
      "source": [
        "np.full([2,3],42)"
      ]
    },
    {
      "cell_type": "code",
      "execution_count": 10,
      "id": "7e6b6ca7-fe22-45e1-8e27-f1d3e68af817",
      "metadata": {
        "colab": {
          "base_uri": "https://localhost:8080/"
        },
        "id": "7e6b6ca7-fe22-45e1-8e27-f1d3e68af817",
        "outputId": "b16b9d15-70f5-46a0-b226-4616fc78678f"
      },
      "outputs": [
        {
          "output_type": "execute_result",
          "data": {
            "text/plain": [
              "array([10, 13, 16, 19, 22, 25, 28, 31, 34, 37, 40, 43, 46, 49, 52, 55, 58,\n",
              "       61, 64, 67, 70, 73, 76, 79, 82, 85, 88])"
            ]
          },
          "metadata": {},
          "execution_count": 10
        }
      ],
      "source": [
        "np.arange(10,90,3)"
      ]
    },
    {
      "cell_type": "code",
      "execution_count": 11,
      "id": "ea995442-063d-4f1c-b2da-8c83168d8723",
      "metadata": {
        "colab": {
          "base_uri": "https://localhost:8080/"
        },
        "id": "ea995442-063d-4f1c-b2da-8c83168d8723",
        "outputId": "9b6be598-5860-49bc-fb73-7c8edcd88eec"
      },
      "outputs": [
        {
          "output_type": "execute_result",
          "data": {
            "text/plain": [
              "(27,)"
            ]
          },
          "metadata": {},
          "execution_count": 11
        }
      ],
      "source": [
        "np.arange(10,90,3).shape"
      ]
    },
    {
      "cell_type": "code",
      "execution_count": 12,
      "id": "45b2fbcc-28bc-484b-a6f3-0c8e87386b8e",
      "metadata": {
        "colab": {
          "base_uri": "https://localhost:8080/"
        },
        "id": "45b2fbcc-28bc-484b-a6f3-0c8e87386b8e",
        "outputId": "6411e94e-6f57-41b5-da74-5f11906e59bf"
      },
      "outputs": [
        {
          "output_type": "execute_result",
          "data": {
            "text/plain": [
              "array([[[10, 13, 16],\n",
              "        [19, 22, 25],\n",
              "        [28, 31, 34]],\n",
              "\n",
              "       [[37, 40, 43],\n",
              "        [46, 49, 52],\n",
              "        [55, 58, 61]],\n",
              "\n",
              "       [[64, 67, 70],\n",
              "        [73, 76, 79],\n",
              "        [82, 85, 88]]])"
            ]
          },
          "metadata": {},
          "execution_count": 12
        }
      ],
      "source": [
        "np.arange(10,90,3).reshape(3,3,3)"
      ]
    },
    {
      "cell_type": "code",
      "execution_count": 13,
      "id": "e135ac21-6ec1-452b-937e-a88f9288cb5f",
      "metadata": {
        "colab": {
          "base_uri": "https://localhost:8080/"
        },
        "id": "e135ac21-6ec1-452b-937e-a88f9288cb5f",
        "outputId": "2edf5cc6-9c09-40d9-ac1a-b4245995fae7"
      },
      "outputs": [
        {
          "output_type": "execute_result",
          "data": {
            "text/plain": [
              "array([[10, 13, 16, 19, 22, 25, 28, 31, 34],\n",
              "       [37, 40, 43, 46, 49, 52, 55, 58, 61],\n",
              "       [64, 67, 70, 73, 76, 79, 82, 85, 88]])"
            ]
          },
          "metadata": {},
          "execution_count": 13
        }
      ],
      "source": [
        "np.arange(10,90,3).reshape(3,9)"
      ]
    },
    {
      "cell_type": "code",
      "execution_count": 14,
      "id": "83eb8313-996a-40d0-a7a8-01f640f39000",
      "metadata": {
        "colab": {
          "base_uri": "https://localhost:8080/"
        },
        "id": "83eb8313-996a-40d0-a7a8-01f640f39000",
        "outputId": "99a66432-d631-43e7-e75c-3cb825b7b42e"
      },
      "outputs": [
        {
          "output_type": "execute_result",
          "data": {
            "text/plain": [
              "array([[[10, 13, 16],\n",
              "        [19, 22, 25],\n",
              "        [28, 31, 34]],\n",
              "\n",
              "       [[37, 40, 43],\n",
              "        [46, 49, 52],\n",
              "        [55, 58, 61]],\n",
              "\n",
              "       [[64, 67, 70],\n",
              "        [73, 76, 79],\n",
              "        [82, 85, 88]]])"
            ]
          },
          "metadata": {},
          "execution_count": 14
        }
      ],
      "source": [
        "np.arange(10,90,3).reshape(3,3,-1)"
      ]
    },
    {
      "cell_type": "code",
      "execution_count": 15,
      "id": "7da2d54e-e1cd-4c08-9095-a17919012378",
      "metadata": {
        "colab": {
          "base_uri": "https://localhost:8080/"
        },
        "id": "7da2d54e-e1cd-4c08-9095-a17919012378",
        "outputId": "ab40a184-146e-49a5-a402-c58fb4c4b7c9"
      },
      "outputs": [
        {
          "output_type": "execute_result",
          "data": {
            "text/plain": [
              "array([ 3.,  6.,  9., 12., 15., 18., 21., 24., 27.])"
            ]
          },
          "metadata": {},
          "execution_count": 15
        }
      ],
      "source": [
        "np.linspace(3,27,9)"
      ]
    },
    {
      "cell_type": "code",
      "execution_count": 16,
      "id": "c260b107-d536-4738-a485-773da5c891ea",
      "metadata": {
        "colab": {
          "base_uri": "https://localhost:8080/"
        },
        "id": "c260b107-d536-4738-a485-773da5c891ea",
        "outputId": "bf8bb83c-d204-4102-edf1-b42f1f3937e6"
      },
      "outputs": [
        {
          "output_type": "execute_result",
          "data": {
            "text/plain": [
              "array([ 3.        ,  4.41176471,  5.82352941,  7.23529412,  8.64705882,\n",
              "       10.05882353, 11.47058824, 12.88235294, 14.29411765, 15.70588235,\n",
              "       17.11764706, 18.52941176, 19.94117647, 21.35294118, 22.76470588,\n",
              "       24.17647059, 25.58823529, 27.        ])"
            ]
          },
          "metadata": {},
          "execution_count": 16
        }
      ],
      "source": [
        "np.linspace(3,27,18)"
      ]
    },
    {
      "cell_type": "code",
      "execution_count": null,
      "id": "97d04310-504e-4935-a6b6-a0eec9512b5f",
      "metadata": {
        "id": "97d04310-504e-4935-a6b6-a0eec9512b5f"
      },
      "outputs": [],
      "source": []
    }
  ],
  "metadata": {
    "kernelspec": {
      "display_name": "Python 3 (ipykernel)",
      "language": "python",
      "name": "python3"
    },
    "language_info": {
      "codemirror_mode": {
        "name": "ipython",
        "version": 3
      },
      "file_extension": ".py",
      "mimetype": "text/x-python",
      "name": "python",
      "nbconvert_exporter": "python",
      "pygments_lexer": "ipython3",
      "version": "3.8.0"
    },
    "colab": {
      "provenance": []
    }
  },
  "nbformat": 4,
  "nbformat_minor": 5
}